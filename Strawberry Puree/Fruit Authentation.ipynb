{
 "cells": [
  {
   "cell_type": "markdown",
   "metadata": {},
   "source": [
    "# Strawberry Purees  Authentication"
   ]
  },
  {
   "cell_type": "markdown",
   "metadata": {},
   "source": [
    "This project uses strawberry purees an example to show how to determine authentation product from adulterated samples. The prediction is based on analysis of mid-IR (1800 cm-1 to 900 cm-1 or 5.5 micron to 11.1 micron) IR range. The data are public available through Quadram Institute (https://asu.quadram.ac.uk/example-datasets-for-download/)"
   ]
  },
  {
   "cell_type": "code",
   "execution_count": 1,
   "metadata": {
    "collapsed": true
   },
   "outputs": [],
   "source": [
    "import pandas as pd\n",
    "import numpy as np\n",
    "import matplotlib.pyplot as plt\n",
    "%matplotlib inline"
   ]
  },
  {
   "cell_type": "code",
   "execution_count": 2,
   "metadata": {
    "collapsed": false
   },
   "outputs": [],
   "source": [
    "df = pd.read_csv('MIR_Fruit_purees.csv')"
   ]
  },
  {
   "cell_type": "code",
   "execution_count": 3,
   "metadata": {
    "collapsed": false
   },
   "outputs": [
    {
     "data": {
      "text/plain": [
       "Index(['Wavenumbers', 'NON-Strawberry', 'NON-Strawberry.1', 'NON-Strawberry.2',\n",
       "       'NON-Strawberry.3', 'NON-Strawberry.4', 'NON-Strawberry.5',\n",
       "       'NON-Strawberry.6', 'NON-Strawberry.7', 'NON-Strawberry.8',\n",
       "       ...\n",
       "       'NON-Strawberry.622', 'NON-Strawberry.623', 'NON-Strawberry.624',\n",
       "       'NON-Strawberry.625', 'NON-Strawberry.626', 'NON-Strawberry.627',\n",
       "       'NON-Strawberry.628', 'NON-Strawberry.629', 'NON-Strawberry.630',\n",
       "       'NON-Strawberry.631'],\n",
       "      dtype='object', length=984)"
      ]
     },
     "execution_count": 3,
     "metadata": {},
     "output_type": "execute_result"
    }
   ],
   "source": [
    "# columns include Wavenumbers and Non-strawberrys, and Strawberrys\n",
    "df.columns"
   ]
  },
  {
   "cell_type": "code",
   "execution_count": 4,
   "metadata": {
    "collapsed": false
   },
   "outputs": [
    {
     "name": "stdout",
     "output_type": "stream",
     "text": [
      "The number of non-strawberry samples are: 632\n",
      "The number of strawberry samples are: 351\n"
     ]
    }
   ],
   "source": [
    "# total non-strawberry samples 632 samples\n",
    "print('The number of non-strawberry samples are: {}'.format(len([i for i in df.columns if i.startswith('NON')])))\n",
    "\n",
    "# total strawberry samples 351 samples\n",
    "print('The number of strawberry samples are: {}'.format(len([i for i in df.columns if i.startswith('Straw')])))"
   ]
  },
  {
   "cell_type": "code",
   "execution_count": 5,
   "metadata": {
    "collapsed": false
   },
   "outputs": [
    {
     "data": {
      "text/html": [
       "<div>\n",
       "<table border=\"1\" class=\"dataframe\">\n",
       "  <thead>\n",
       "    <tr style=\"text-align: right;\">\n",
       "      <th>Wavenumbers</th>\n",
       "      <th>index</th>\n",
       "      <th>899.327</th>\n",
       "      <th>903.187</th>\n",
       "      <th>907.047</th>\n",
       "      <th>910.9069999999999</th>\n",
       "      <th>914.7669999999999</th>\n",
       "      <th>918.627</th>\n",
       "      <th>922.487</th>\n",
       "      <th>926.347</th>\n",
       "      <th>930.207</th>\n",
       "      <th>...</th>\n",
       "      <th>1767.8239999999998</th>\n",
       "      <th>1771.684</th>\n",
       "      <th>1775.5439999999999</th>\n",
       "      <th>1779.404</th>\n",
       "      <th>1783.264</th>\n",
       "      <th>1787.124</th>\n",
       "      <th>1790.984</th>\n",
       "      <th>1794.844</th>\n",
       "      <th>1798.704</th>\n",
       "      <th>1802.5639999999999</th>\n",
       "    </tr>\n",
       "  </thead>\n",
       "  <tbody>\n",
       "    <tr>\n",
       "      <th>0</th>\n",
       "      <td>0</td>\n",
       "      <td>0.002806</td>\n",
       "      <td>0.002732</td>\n",
       "      <td>0.002661</td>\n",
       "      <td>0.002657</td>\n",
       "      <td>0.002699</td>\n",
       "      <td>0.002762</td>\n",
       "      <td>0.002749</td>\n",
       "      <td>0.002686</td>\n",
       "      <td>0.002637</td>\n",
       "      <td>...</td>\n",
       "      <td>0.000562</td>\n",
       "      <td>0.000348</td>\n",
       "      <td>0.000216</td>\n",
       "      <td>0.000166</td>\n",
       "      <td>0.000117</td>\n",
       "      <td>0.000087</td>\n",
       "      <td>0.000046</td>\n",
       "      <td>0.000011</td>\n",
       "      <td>0.000009</td>\n",
       "      <td>0.000009</td>\n",
       "    </tr>\n",
       "    <tr>\n",
       "      <th>1</th>\n",
       "      <td>0</td>\n",
       "      <td>0.002637</td>\n",
       "      <td>0.002638</td>\n",
       "      <td>0.002651</td>\n",
       "      <td>0.002757</td>\n",
       "      <td>0.003000</td>\n",
       "      <td>0.003313</td>\n",
       "      <td>0.003412</td>\n",
       "      <td>0.003302</td>\n",
       "      <td>0.003162</td>\n",
       "      <td>...</td>\n",
       "      <td>0.000022</td>\n",
       "      <td>0.000013</td>\n",
       "      <td>0.000006</td>\n",
       "      <td>-0.000005</td>\n",
       "      <td>-0.000005</td>\n",
       "      <td>-0.000006</td>\n",
       "      <td>0.000002</td>\n",
       "      <td>0.000010</td>\n",
       "      <td>0.000005</td>\n",
       "      <td>0.000005</td>\n",
       "    </tr>\n",
       "    <tr>\n",
       "      <th>2</th>\n",
       "      <td>0</td>\n",
       "      <td>0.002416</td>\n",
       "      <td>0.002480</td>\n",
       "      <td>0.002511</td>\n",
       "      <td>0.002611</td>\n",
       "      <td>0.002802</td>\n",
       "      <td>0.003031</td>\n",
       "      <td>0.003235</td>\n",
       "      <td>0.003316</td>\n",
       "      <td>0.003257</td>\n",
       "      <td>...</td>\n",
       "      <td>0.000449</td>\n",
       "      <td>0.000290</td>\n",
       "      <td>0.000185</td>\n",
       "      <td>0.000137</td>\n",
       "      <td>0.000090</td>\n",
       "      <td>0.000062</td>\n",
       "      <td>0.000031</td>\n",
       "      <td>0.000009</td>\n",
       "      <td>0.000007</td>\n",
       "      <td>0.000007</td>\n",
       "    </tr>\n",
       "    <tr>\n",
       "      <th>3</th>\n",
       "      <td>0</td>\n",
       "      <td>0.002345</td>\n",
       "      <td>0.002292</td>\n",
       "      <td>0.002249</td>\n",
       "      <td>0.002303</td>\n",
       "      <td>0.002466</td>\n",
       "      <td>0.002642</td>\n",
       "      <td>0.002703</td>\n",
       "      <td>0.002671</td>\n",
       "      <td>0.002618</td>\n",
       "      <td>...</td>\n",
       "      <td>0.000613</td>\n",
       "      <td>0.000419</td>\n",
       "      <td>0.000267</td>\n",
       "      <td>0.000179</td>\n",
       "      <td>0.000119</td>\n",
       "      <td>0.000075</td>\n",
       "      <td>0.000043</td>\n",
       "      <td>0.000021</td>\n",
       "      <td>0.000008</td>\n",
       "      <td>0.000008</td>\n",
       "    </tr>\n",
       "    <tr>\n",
       "      <th>4</th>\n",
       "      <td>0</td>\n",
       "      <td>0.002303</td>\n",
       "      <td>0.002342</td>\n",
       "      <td>0.002350</td>\n",
       "      <td>0.002419</td>\n",
       "      <td>0.002561</td>\n",
       "      <td>0.002737</td>\n",
       "      <td>0.002862</td>\n",
       "      <td>0.002860</td>\n",
       "      <td>0.002811</td>\n",
       "      <td>...</td>\n",
       "      <td>0.000713</td>\n",
       "      <td>0.000468</td>\n",
       "      <td>0.000299</td>\n",
       "      <td>0.000212</td>\n",
       "      <td>0.000140</td>\n",
       "      <td>0.000099</td>\n",
       "      <td>0.000054</td>\n",
       "      <td>0.000020</td>\n",
       "      <td>0.000012</td>\n",
       "      <td>0.000012</td>\n",
       "    </tr>\n",
       "  </tbody>\n",
       "</table>\n",
       "<p>5 rows × 236 columns</p>\n",
       "</div>"
      ],
      "text/plain": [
       "Wavenumbers  index   899.327   903.187   907.047  910.9069999999999  \\\n",
       "0                0  0.002806  0.002732  0.002661           0.002657   \n",
       "1                0  0.002637  0.002638  0.002651           0.002757   \n",
       "2                0  0.002416  0.002480  0.002511           0.002611   \n",
       "3                0  0.002345  0.002292  0.002249           0.002303   \n",
       "4                0  0.002303  0.002342  0.002350           0.002419   \n",
       "\n",
       "Wavenumbers  914.7669999999999   918.627   922.487   926.347   930.207  \\\n",
       "0                     0.002699  0.002762  0.002749  0.002686  0.002637   \n",
       "1                     0.003000  0.003313  0.003412  0.003302  0.003162   \n",
       "2                     0.002802  0.003031  0.003235  0.003316  0.003257   \n",
       "3                     0.002466  0.002642  0.002703  0.002671  0.002618   \n",
       "4                     0.002561  0.002737  0.002862  0.002860  0.002811   \n",
       "\n",
       "Wavenumbers         ...          1767.8239999999998  1771.684  \\\n",
       "0                   ...                    0.000562  0.000348   \n",
       "1                   ...                    0.000022  0.000013   \n",
       "2                   ...                    0.000449  0.000290   \n",
       "3                   ...                    0.000613  0.000419   \n",
       "4                   ...                    0.000713  0.000468   \n",
       "\n",
       "Wavenumbers  1775.5439999999999  1779.404  1783.264  1787.124  1790.984  \\\n",
       "0                      0.000216  0.000166  0.000117  0.000087  0.000046   \n",
       "1                      0.000006 -0.000005 -0.000005 -0.000006  0.000002   \n",
       "2                      0.000185  0.000137  0.000090  0.000062  0.000031   \n",
       "3                      0.000267  0.000179  0.000119  0.000075  0.000043   \n",
       "4                      0.000299  0.000212  0.000140  0.000099  0.000054   \n",
       "\n",
       "Wavenumbers  1794.844  1798.704  1802.5639999999999  \n",
       "0            0.000011  0.000009            0.000009  \n",
       "1            0.000010  0.000005            0.000005  \n",
       "2            0.000009  0.000007            0.000007  \n",
       "3            0.000021  0.000008            0.000008  \n",
       "4            0.000020  0.000012            0.000012  \n",
       "\n",
       "[5 rows x 236 columns]"
      ]
     },
     "execution_count": 5,
     "metadata": {},
     "output_type": "execute_result"
    }
   ],
   "source": [
    "#make a new copy of df\n",
    "df_new = df.copy()\n",
    "\n",
    "# Set wavenumber as index\n",
    "df_new = df_new.set_index('Wavenumbers')\n",
    "\n",
    "# Set the columns to be 1 if sample is strawberry, otherwise set to 0\n",
    "df_new.columns = [int(i.startswith('Straw')) for i in df_new.columns]\n",
    "\n",
    "df_new_transform = df_new.T\n",
    "df_new_transform = df_new_transform.reset_index()\n",
    "\n",
    "df_new_transform.head()"
   ]
  },
  {
   "cell_type": "code",
   "execution_count": 6,
   "metadata": {
    "collapsed": true
   },
   "outputs": [],
   "source": [
    "# assign x and y, x is spectrum data, y is labels\n",
    "x = df_new_transform.iloc[:,1:]\n",
    "y = df_new_transform.iloc[:,0]"
   ]
  },
  {
   "cell_type": "code",
   "execution_count": 7,
   "metadata": {
    "collapsed": false
   },
   "outputs": [],
   "source": [
    "# Assign strawberry and non-strawberry data to x_fruit and x_non_fruit respectively\n",
    "x_fruit = x.loc[y==1]\n",
    "x_non_fruit= x.loc[y==0]\n",
    "\n",
    "x_fruit_avg = np.mean(x_fruit)\n",
    "x_non_fruit_avg = np.mean(x_non_fruit)"
   ]
  },
  {
   "cell_type": "markdown",
   "metadata": {},
   "source": [
    "## Section 1. Data Visualization by heatmap and plot"
   ]
  },
  {
   "cell_type": "code",
   "execution_count": 8,
   "metadata": {
    "collapsed": false
   },
   "outputs": [
    {
     "data": {
      "text/plain": [
       "<matplotlib.text.Text at 0x1761aa1fc88>"
      ]
     },
     "execution_count": 8,
     "metadata": {},
     "output_type": "execute_result"
    },
    {
     "data": {
      "image/png": "[encoded data removed]",
      "text/plain": [
       "<matplotlib.figure.Figure at 0x1761a2d69e8>"
      ]
     },
     "metadata": {},
     "output_type": "display_data"
    },
    {
     "data": {
      "image/png": "[encoded data removed]",
      "text/plain": [
       "<matplotlib.figure.Figure at 0x1761a9f9cc0>"
      ]
     },
     "metadata": {},
     "output_type": "display_data"
    }
   ],
   "source": [
    "wavenumbers = len(x_fruit.columns)\n",
    "wavenumbers_non_fruit = len(x_non_fruit.columns)\n",
    "\n",
    "# Heatmap comparision of strawberry and non-strawberry samples\n",
    "plt.figure(figsize=(20,2))\n",
    "plt.imshow(x_fruit, aspect='auto')\n",
    "_ = plt.xticks(range(0,wavenumbers,wavenumbers//10), ([int(i) for i in x_fruit.columns[::wavenumbers//10]]))\n",
    "plt.xlabel('Wavenumber')\n",
    "plt.title('Authentic Strawberry Samples')\n",
    "plt.ylabel('Samples')\n",
    "\n",
    "plt.figure(figsize=(20,2))\n",
    "plt.imshow(x_non_fruit, aspect = 'auto')\n",
    "_ = plt.xticks(range(0,wavenumbers_non_fruit,wavenumbers_non_fruit//10), ([int(i) for i in x_non_fruit.columns[::wavenumbers_non_fruit//10]]))\n",
    "plt.title('Adulterated Strawberry Samples')\n",
    "plt.xlabel('Wavenumber')\n",
    "plt.ylabel('Samples')"
   ]
  },
  {
   "cell_type": "code",
   "execution_count": 9,
   "metadata": {
    "collapsed": false,
    "scrolled": false
   },
   "outputs": [
    {
     "data": {
      "text/plain": [
       "<matplotlib.text.Text at 0x1761ac57400>"
      ]
     },
     "execution_count": 9,
     "metadata": {},
     "output_type": "execute_result"
    },
    {
     "data": {
      "image/png": "[encoded data removed]",
      "text/plain": [
       "<matplotlib.figure.Figure at 0x1761a2d6a58>"
      ]
     },
     "metadata": {},
     "output_type": "display_data"
    }
   ],
   "source": [
    "# Plot Comparison of strawberry and non-strawberry samples\n",
    "plt.plot(x_fruit_avg, label = 'Strawberry')\n",
    "plt.plot(x_non_fruit_avg, color = 'red', alpha = 0.8, label = 'Non-strawberry')\n",
    "plt.legend(loc = 'best')\n",
    "plt.xlim(min(x_fruit_avg.index), max(x_fruit_avg.index))\n",
    "plt.xlabel('Wavenumbers')\n",
    "plt.ylabel('Absorption')\n",
    "plt.title('Comparison of Strawberry and Non-strawberry samples')"
   ]
  },
  {
   "cell_type": "markdown",
   "metadata": {},
   "source": [
    "Plot interactive ploty graph"
   ]
  },
  {
   "cell_type": "code",
   "execution_count": 10,
   "metadata": {
    "collapsed": false
   },
   "outputs": [
    {
     "data": {
      "text/html": [
       "<script>requirejs.config({paths: { 'plotly': ['https://cdn.plot.ly/plotly-latest.min']},});if(!window.Plotly) {{require(['plotly'],function(plotly) {window.Plotly=plotly;});}}</script>"
      ],
      "text/vnd.plotly.v1+html": [
       "<script>requirejs.config({paths: { 'plotly': ['https://cdn.plot.ly/plotly-latest.min']},});if(!window.Plotly) {{require(['plotly'],function(plotly) {window.Plotly=plotly;});}}</script>"
      ]
     },
     "metadata": {},
     "output_type": "display_data"
    }
   ],
   "source": [
    "import plotly.offline as py\n",
    "import plotly.graph_objs as go\n",
    "from plotly import tools\n",
    "py.init_notebook_mode(connected=True)"
   ]
  },
  {
   "cell_type": "code",
   "execution_count": 11,
   "metadata": {
    "collapsed": false
   },
   "outputs": [
    {
     "data": {
      "application/vnd.plotly.v1+json": {
       "data": [
        {
         "line": {
          "color": "green"
         },
         "name": "Authentic Strawberry",
         "type": "scatter",
         "x": [
          899.327,
          903.187,
          907.047,
          910.9069999999999,
          914.7669999999999,
          918.627,
          922.487,
          926.347,
          930.207,
          934.067,
          937.927,
          941.7869999999999,
          945.6469999999999,
          949.507,
          953.367,
          957.227,
          961.087,
          964.947,
          968.807,
          972.6669999999999,
          976.5269999999999,
          980.387,
          984.247,
          988.107,
          991.967,
          995.827,
          999.687,
          1003.547,
          1007.4069999999999,
          1011.2669999999999,
          1015.127,
          1018.987,
          1022.847,
          1026.7069999999999,
          1030.567,
          1034.427,
          1038.287,
          1042.147,
          1046.007,
          1049.867,
          1053.7269999999999,
          1057.587,
          1061.447,
          1065.307,
          1069.167,
          1073.027,
          1076.887,
          1080.747,
          1084.607,
          1088.4669999999999,
          1092.327,
          1096.187,
          1100.047,
          1103.907,
          1107.767,
          1111.627,
          1115.487,
          1119.347,
          1123.2069999999999,
          1127.067,
          1130.927,
          1134.786,
          1138.646,
          1142.506,
          1146.366,
          1150.226,
          1154.086,
          1157.9460000000001,
          1161.806,
          1165.6660000000002,
          1169.526,
          1173.386,
          1177.246,
          1181.106,
          1184.9660000000001,
          1188.826,
          1192.6860000000001,
          1196.546,
          1200.406,
          1204.266,
          1208.126,
          1211.986,
          1215.846,
          1219.7060000000001,
          1223.566,
          1227.4260000000002,
          1231.286,
          1235.146,
          1239.006,
          1242.866,
          1246.726,
          1250.586,
          1254.4460000000001,
          1258.306,
          1262.1660000000002,
          1266.026,
          1269.886,
          1273.746,
          1277.606,
          1281.4660000000001,
          1285.326,
          1289.1860000000001,
          1293.046,
          1296.906,
          1300.766,
          1304.626,
          1308.486,
          1312.346,
          1316.2060000000001,
          1320.066,
          1323.9260000000002,
          1327.786,
          1331.646,
          1335.506,
          1339.366,
          1343.226,
          1347.086,
          1350.9460000000001,
          1354.806,
          1358.6660000000002,
          1362.526,
          1366.386,
          1370.246,
          1374.106,
          1377.9660000000001,
          1381.826,
          1385.6860000000001,
          1389.545,
          1393.405,
          1397.265,
          1401.125,
          1404.985,
          1408.845,
          1412.705,
          1416.565,
          1420.425,
          1424.285,
          1428.145,
          1432.005,
          1435.865,
          1439.725,
          1443.585,
          1447.445,
          1451.305,
          1455.165,
          1459.025,
          1462.885,
          1466.745,
          1470.605,
          1474.465,
          1478.325,
          1482.185,
          1486.045,
          1489.905,
          1493.765,
          1497.625,
          1501.485,
          1505.345,
          1509.205,
          1513.065,
          1516.925,
          1520.785,
          1524.645,
          1528.505,
          1532.365,
          1536.225,
          1540.085,
          1543.945,
          1547.805,
          1551.665,
          1555.525,
          1559.385,
          1563.245,
          1567.105,
          1570.965,
          1574.825,
          1578.685,
          1582.545,
          1586.405,
          1590.265,
          1594.125,
          1597.985,
          1601.845,
          1605.705,
          1609.565,
          1613.425,
          1617.285,
          1621.145,
          1625.005,
          1628.865,
          1632.725,
          1636.585,
          1640.445,
          1644.3039999999999,
          1648.164,
          1652.024,
          1655.884,
          1659.744,
          1663.604,
          1667.464,
          1671.3239999999998,
          1675.184,
          1679.0439999999999,
          1682.904,
          1686.764,
          1690.624,
          1694.484,
          1698.344,
          1702.204,
          1706.0639999999999,
          1709.924,
          1713.7839999999999,
          1717.644,
          1721.504,
          1725.364,
          1729.224,
          1733.0839999999998,
          1736.944,
          1740.8039999999999,
          1744.664,
          1748.524,
          1752.384,
          1756.244,
          1760.104,
          1763.964,
          1767.8239999999998,
          1771.684,
          1775.5439999999999,
          1779.404,
          1783.264,
          1787.124,
          1790.984,
          1794.844,
          1798.704,
          1802.5639999999999
         ],
         "y": [
          0.002564213247863248,
          0.0025795615982905995,
          0.0026119046809116803,
          0.002720772105413107,
          0.002927206962962966,
          0.0031561447350427333,
          0.0032816292592592598,
          0.003277347971509971,
          0.00319436945014245,
          0.0030820400626780597,
          0.0029845818319088327,
          0.002918544008547007,
          0.0028711244301994304,
          0.002836391729344729,
          0.0028527983304843314,
          0.002978735871794872,
          0.0032642968860398846,
          0.003676010601139602,
          0.003988186458689459,
          0.004217121176638177,
          0.00468242668945869,
          0.005321316826210831,
          0.005918106552706557,
          0.006603627678062676,
          0.007285968723646723,
          0.007622137774928771,
          0.007742801905982907,
          0.007975274048433048,
          0.008468217484330479,
          0.009309339501424494,
          0.010282900222222214,
          0.010977346837606834,
          0.011488089512820519,
          0.012269595470085465,
          0.01329285245868945,
          0.014035410749287745,
          0.014291687695156693,
          0.01432215030484331,
          0.014433421068376069,
          0.014802187578347573,
          0.015444500139601127,
          0.016104510498575503,
          0.016392337111111117,
          0.016197158974358975,
          0.01566162078062677,
          0.015080008920227912,
          0.014805670860398858,
          0.014690345236467247,
          0.014000091139601151,
          0.012512148216524218,
          0.011054207091168092,
          0.010422311960113962,
          0.010606493430199421,
          0.010990456176638175,
          0.010944374891737888,
          0.010316104703703704,
          0.009407230988603995,
          0.008564347042735038,
          0.00792952372934473,
          0.007491577737891742,
          0.007200198552706551,
          0.00699472443019943,
          0.006844472743589742,
          0.00675636458404559,
          0.006696107076923078,
          0.006574862202279207,
          0.006335297125356125,
          0.0059646777635327655,
          0.00544423195156695,
          0.004818118433048431,
          0.004253474142450145,
          0.0038943876524216523,
          0.003749677723646725,
          0.003740767680911677,
          0.0037801219430199434,
          0.00381389881766382,
          0.003831686210826209,
          0.0038524983675213655,
          0.003891011481481482,
          0.003936669279202278,
          0.003982531435897437,
          0.004043112931623934,
          0.004139419763532763,
          0.00427620958974359,
          0.0044445967179487155,
          0.0046246357492877475,
          0.00478070794586895,
          0.0048824498945868955,
          0.004929019102564101,
          0.004937934849002849,
          0.004924698772079771,
          0.004894651646723646,
          0.004852104737891735,
          0.004800936774928773,
          0.004732947467236464,
          0.004625494430199428,
          0.004479548264957269,
          0.004338779062678063,
          0.004246883720797718,
          0.004197878923076923,
          0.004158822148148145,
          0.004100129008547006,
          0.004033108062678063,
          0.003991726336182338,
          0.004000417746438744,
          0.004060400125356127,
          0.004158748806267804,
          0.004270255424501426,
          0.0043711846239316236,
          0.004454750954415955,
          0.00454102063817664,
          0.00464324548148148,
          0.004760190564102565,
          0.004864232831908834,
          0.004962967210826211,
          0.005071970091168094,
          0.005147616324786324,
          0.005173039071225068,
          0.005173704920227925,
          0.005161409162393162,
          0.005126841581196582,
          0.005074469034188038,
          0.005008532378917381,
          0.004904568515669511,
          0.004782008438746441,
          0.004668944492877493,
          0.004590149678062681,
          0.004570458652421654,
          0.004611910433048434,
          0.004697686227920228,
          0.004812025817663817,
          0.00490957018233618,
          0.004985733452991455,
          0.00502185089458689,
          0.00501207854415954,
          0.004944632091168092,
          0.004868896527065529,
          0.004774494065527062,
          0.004673488450142449,
          0.004573365230769225,
          0.004491289404558404,
          0.004402045735042733,
          0.0042198601310541334,
          0.00398287215384615,
          0.003822385085470088,
          0.003487625267806269,
          0.003141737977207978,
          0.0026913264017094022,
          0.0022957865299145287,
          0.0019149310085470072,
          0.0015949629316239318,
          0.0013892929800569805,
          0.00121048966951567,
          0.0010656421823361836,
          0.0009471250313390318,
          0.0008792027578347591,
          0.0008105312934472931,
          0.0007901674358974361,
          0.000761405128205129,
          0.0007727678233618232,
          0.000787238273504273,
          0.0007813508860398863,
          0.0007274209142450141,
          0.0006794269615384615,
          0.0006365039230769225,
          0.0005994646421652423,
          0.0005828922284900282,
          0.0005678264011396014,
          0.0005706938535612535,
          0.0006020540535612539,
          0.000647805441837607,
          0.000728953948188034,
          0.0008356945954131053,
          0.0009119728550712236,
          0.0010167424500854706,
          0.0010995164190028494,
          0.0011826907965811976,
          0.0012451421566951567,
          0.0012807140683760675,
          0.0012976299829059825,
          0.0012968177948717951,
          0.0012794615327635314,
          0.0012324626065527069,
          0.0011472522439601135,
          0.001016018947008546,
          0.0008771998997150995,
          0.0007308881533048432,
          0.0005834209138746434,
          0.00048785609360968635,
          0.00040821891715099704,
          0.00038342447268376083,
          0.00039057732011396027,
          0.0003828431035897434,
          0.0003931316346509972,
          0.00044581928250712275,
          0.0004888287187464386,
          0.0005398022290598294,
          0.0005628227925925924,
          0.0006014217002849,
          0.0006308941049857557,
          0.0006643815823361819,
          0.0007025168250712254,
          0.0007434118666666663,
          0.0007887698831908829,
          0.0008635415811965803,
          0.0009343194444444447,
          0.0010243727834757831,
          0.001145456524216524,
          0.0013204387521367524,
          0.0014781918774928776,
          0.0016429295641025637,
          0.001762957914529915,
          0.001867577427350427,
          0.0019751784700854694,
          0.002006766689458689,
          0.001966866829059828,
          0.001851451213675215,
          0.0016860764045584053,
          0.0015311708945868945,
          0.00133228786039886,
          0.0011337362678062672,
          0.0009105829116809112,
          0.0007250689458689458,
          0.0005468129031339032,
          0.00038451751680911657,
          0.0002671098148148151,
          0.00017474724245014243,
          0.00010562632729344732,
          7.027671680056976e-05,
          4.6062649501424486e-05,
          3.27012903031339e-05,
          2.1267561259259278e-05,
          1.1758513347578342e-05,
          7.428452711396013e-06,
          7.428452711396013e-06
         ]
        },
        {
         "line": {
          "color": "red"
         },
         "name": "Adulterated Strawberry",
         "type": "scatter",
         "x": [
          899.327,
          903.187,
          907.047,
          910.9069999999999,
          914.7669999999999,
          918.627,
          922.487,
          926.347,
          930.207,
          934.067,
          937.927,
          941.7869999999999,
          945.6469999999999,
          949.507,
          953.367,
          957.227,
          961.087,
          964.947,
          968.807,
          972.6669999999999,
          976.5269999999999,
          980.387,
          984.247,
          988.107,
          991.967,
          995.827,
          999.687,
          1003.547,
          1007.4069999999999,
          1011.2669999999999,
          1015.127,
          1018.987,
          1022.847,
          1026.7069999999999,
          1030.567,
          1034.427,
          1038.287,
          1042.147,
          1046.007,
          1049.867,
          1053.7269999999999,
          1057.587,
          1061.447,
          1065.307,
          1069.167,
          1073.027,
          1076.887,
          1080.747,
          1084.607,
          1088.4669999999999,
          1092.327,
          1096.187,
          1100.047,
          1103.907,
          1107.767,
          1111.627,
          1115.487,
          1119.347,
          1123.2069999999999,
          1127.067,
          1130.927,
          1134.786,
          1138.646,
          1142.506,
          1146.366,
          1150.226,
          1154.086,
          1157.9460000000001,
          1161.806,
          1165.6660000000002,
          1169.526,
          1173.386,
          1177.246,
          1181.106,
          1184.9660000000001,
          1188.826,
          1192.6860000000001,
          1196.546,
          1200.406,
          1204.266,
          1208.126,
          1211.986,
          1215.846,
          1219.7060000000001,
          1223.566,
          1227.4260000000002,
          1231.286,
          1235.146,
          1239.006,
          1242.866,
          1246.726,
          1250.586,
          1254.4460000000001,
          1258.306,
          1262.1660000000002,
          1266.026,
          1269.886,
          1273.746,
          1277.606,
          1281.4660000000001,
          1285.326,
          1289.1860000000001,
          1293.046,
          1296.906,
          1300.766,
          1304.626,
          1308.486,
          1312.346,
          1316.2060000000001,
          1320.066,
          1323.9260000000002,
          1327.786,
          1331.646,
          1335.506,
          1339.366,
          1343.226,
          1347.086,
          1350.9460000000001,
          1354.806,
          1358.6660000000002,
          1362.526,
          1366.386,
          1370.246,
          1374.106,
          1377.9660000000001,
          1381.826,
          1385.6860000000001,
          1389.545,
          1393.405,
          1397.265,
          1401.125,
          1404.985,
          1408.845,
          1412.705,
          1416.565,
          1420.425,
          1424.285,
          1428.145,
          1432.005,
          1435.865,
          1439.725,
          1443.585,
          1447.445,
          1451.305,
          1455.165,
          1459.025,
          1462.885,
          1466.745,
          1470.605,
          1474.465,
          1478.325,
          1482.185,
          1486.045,
          1489.905,
          1493.765,
          1497.625,
          1501.485,
          1505.345,
          1509.205,
          1513.065,
          1516.925,
          1520.785,
          1524.645,
          1528.505,
          1532.365,
          1536.225,
          1540.085,
          1543.945,
          1547.805,
          1551.665,
          1555.525,
          1559.385,
          1563.245,
          1567.105,
          1570.965,
          1574.825,
          1578.685,
          1582.545,
          1586.405,
          1590.265,
          1594.125,
          1597.985,
          1601.845,
          1605.705,
          1609.565,
          1613.425,
          1617.285,
          1621.145,
          1625.005,
          1628.865,
          1632.725,
          1636.585,
          1640.445,
          1644.3039999999999,
          1648.164,
          1652.024,
          1655.884,
          1659.744,
          1663.604,
          1667.464,
          1671.3239999999998,
          1675.184,
          1679.0439999999999,
          1682.904,
          1686.764,
          1690.624,
          1694.484,
          1698.344,
          1702.204,
          1706.0639999999999,
          1709.924,
          1713.7839999999999,
          1717.644,
          1721.504,
          1725.364,
          1729.224,
          1733.0839999999998,
          1736.944,
          1740.8039999999999,
          1744.664,
          1748.524,
          1752.384,
          1756.244,
          1760.104,
          1763.964,
          1767.8239999999998,
          1771.684,
          1775.5439999999999,
          1779.404,
          1783.264,
          1787.124,
          1790.984,
          1794.844,
          1798.704,
          1802.5639999999999
         ],
         "y": [
          0.0023857976534810144,
          0.002400840433544303,
          0.0024300533101265787,
          0.0025390180443037973,
          0.0027470554208860747,
          0.0029816892784810126,
          0.0031167564873417703,
          0.003116817143987343,
          0.0030412423164556954,
          0.0029456557642405057,
          0.0028637968528480995,
          0.002812406430379748,
          0.00278141934651899,
          0.0027633505664556956,
          0.002791949680379747,
          0.002922435939873416,
          0.0032191731851265813,
          0.0036461256170886103,
          0.003955000756329118,
          0.004174705707278478,
          0.0046408452072784845,
          0.005282887647151892,
          0.005876682811708862,
          0.006549027764240499,
          0.007213926273734172,
          0.007540207773734172,
          0.00766062320253165,
          0.007895349969936708,
          0.00838412669936708,
          0.00919481998417721,
          0.010116733310126585,
          0.010789831819620246,
          0.011334653813291141,
          0.012160506637658233,
          0.013205127498417724,
          0.013965853436708855,
          0.014240753101265814,
          0.014269158400316456,
          0.014355061142405066,
          0.014702688422468352,
          0.015342237507911378,
          0.01599591639240504,
          0.016267408181962015,
          0.01604836562658228,
          0.015487548473101265,
          0.014898071061708876,
          0.014635312625000004,
          0.01453340512183544,
          0.013856570780063287,
          0.012381821121835428,
          0.010918424512658226,
          0.010252486386075944,
          0.010378235156645566,
          0.010690411794303785,
          0.010584997196202527,
          0.009944555786392395,
          0.009077249200949348,
          0.008303129006329117,
          0.007734721145569628,
          0.007341234906645578,
          0.007065604181962024,
          0.006853368289556965,
          0.0066836433955696235,
          0.006569576177215184,
          0.006488395935126582,
          0.006372377962025311,
          0.006172038090189874,
          0.005861441273734178,
          0.0054121640000000075,
          0.004865573240506335,
          0.004379033487341768,
          0.004086658960443041,
          0.0039953247183544295,
          0.004032658511075952,
          0.004117720712025315,
          0.004190889814873422,
          0.004235192821202529,
          0.004272744466772147,
          0.004324291518987339,
          0.004385017186708861,
          0.004452769213607594,
          0.004541211636075946,
          0.004660704564873425,
          0.004805787613924046,
          0.0049642885300632935,
          0.0051148366724683555,
          0.005226784370253166,
          0.005275658240506336,
          0.005263283509493673,
          0.005211127197784806,
          0.005140361992088607,
          0.005061471572784807,
          0.004984213675632911,
          0.004914241080696206,
          0.004838807291139232,
          0.004730681235759487,
          0.004589802454113928,
          0.004454048878164558,
          0.004359694300632911,
          0.00430104921835443,
          0.004254626558544301,
          0.004203502613924057,
          0.004158302843354428,
          0.0041420030854430415,
          0.004170058507911395,
          0.004240451634493665,
          0.004339273037974687,
          0.004444451893987339,
          0.004539770441455694,
          0.0046173342484177185,
          0.004691294596518983,
          0.004779037555379748,
          0.004884087280063295,
          0.00498583885126582,
          0.00508537784335443,
          0.00517190688449367,
          0.005215103117088606,
          0.005210612943037975,
          0.0051800603639240534,
          0.00513728232594936,
          0.005077602096518986,
          0.004992282670886075,
          0.0048974737721519,
          0.004783413047468358,
          0.004659141794303799,
          0.004546488330696196,
          0.004483262151898739,
          0.004485597531645569,
          0.00454672974050633,
          0.0046572036250000035,
          0.00478516857594936,
          0.0048896197357594946,
          0.004966168552215191,
          0.004995825881329114,
          0.004985685593354431,
          0.004912727405063297,
          0.004814150006329113,
          0.004697602702531647,
          0.0045717711329113925,
          0.004443132462025312,
          0.004305256974683545,
          0.004167859561708859,
          0.003986811327531642,
          0.003780096993670884,
          0.0036538590110759515,
          0.003354149996835443,
          0.0030006659082278462,
          0.0025503067958860767,
          0.0021581498560126556,
          0.001776020427215189,
          0.0014348768037974681,
          0.0012127013749999992,
          0.0010396943370253155,
          0.0009108559082278479,
          0.0007883144303797468,
          0.0007231573580696208,
          0.0006564824728164546,
          0.000647698247088608,
          0.0006420818129113931,
          0.0006209449100348103,
          0.0006151647752689879,
          0.0006034914566455691,
          0.000551232045363924,
          0.0005026303231819614,
          0.0004670417004746827,
          0.00044022304416455716,
          0.00044048648569620203,
          0.0004481879266313299,
          0.00044031610058370267,
          0.00045838197318670917,
          0.0004933057699240506,
          0.0005579709442958856,
          0.0006059675897151906,
          0.0006495601281582282,
          0.0007287919556439872,
          0.0007912904404746834,
          0.0008535154231012669,
          0.0008930027693987339,
          0.0009178338914113931,
          0.0009286781859651894,
          0.0009178413296518996,
          0.0008858098762341783,
          0.0008340440768037972,
          0.0007661809849525308,
          0.0006817817454889235,
          0.0006033206957278483,
          0.0005387022960917731,
          0.00047642732155538017,
          0.0004494086189556959,
          0.00042741239704588614,
          0.000431598870348102,
          0.000483600312833861,
          0.0004917054579272153,
          0.0005173196733655067,
          0.0005838232463291142,
          0.0006277968481329108,
          0.0006469084037500003,
          0.000628168277721519,
          0.0006458111330118669,
          0.0006726626831487345,
          0.0007194680231012655,
          0.0007624156861708864,
          0.0008158890981487337,
          0.0008971534246044304,
          0.0010171977571139244,
          0.0011070553759952532,
          0.001238873169240507,
          0.0014320305425791127,
          0.0016762766601265814,
          0.0018866242102689866,
          0.002105717163354431,
          0.002281368534968353,
          0.002447027386550633,
          0.0025776369301107583,
          0.002608801067088609,
          0.002565068147566457,
          0.0024356331789556975,
          0.0022220006128164547,
          0.0020093317773417696,
          0.0017448698381329116,
          0.0014828280188291148,
          0.0011757023128164553,
          0.0009132087682594947,
          0.0006839392178006334,
          0.00048007533060284745,
          0.00033903037883227825,
          0.00024186513710917757,
          0.00015691095626898724,
          0.00010420387845569612,
          7.030449020031649e-05,
          4.549658933496841e-05,
          3.377815084636075e-05,
          2.2632908308544297e-05,
          9.985530664715184e-06,
          8.885956723259494e-06
         ]
        }
       ],
       "layout": {
        "title": "Comparison of Strawberry and Non-strawberry samples",
        "xaxis": {
         "title": "Wavenumbers"
        },
        "yaxis": {
         "title": "Absorption"
        }
       }
      },
      "text/html": [
       "<div id=\"945f4d3f-8f30-4c37-adf1-e52c849ca1c5\" style=\"height: 525px; width: 100%;\" class=\"plotly-graph-div\"></div><script type=\"text/javascript\">require([\"plotly\"], function(Plotly) { window.PLOTLYENV=window.PLOTLYENV || {};window.PLOTLYENV.BASE_URL=\"https://plot.ly\";Plotly.newPlot(\"945f4d3f-8f30-4c37-adf1-e52c849ca1c5\", [{\"type\": \"scatter\", \"x\": [899.327, 903.187, 907.047, 910.9069999999999, 914.7669999999999, 918.627, 922.487, 926.347, 930.207, 934.067, 937.927, 941.7869999999999, 945.6469999999999, 949.507, 953.367, 957.227, 961.087, 964.947, 968.807, 972.6669999999999, 976.5269999999999, 980.387, 984.247, 988.107, 991.967, 995.827, 999.687, 1003.547, 1007.4069999999999, 1011.2669999999999, 1015.127, 1018.987, 1022.847, 1026.7069999999999, 1030.567, 1034.427, 1038.287, 1042.147, 1046.007, 1049.867, 1053.7269999999999, 1057.587, 1061.447, 1065.307, 1069.167, 1073.027, 1076.887, 1080.747, 1084.607, 1088.4669999999999, 1092.327, 1096.187, 1100.047, 1103.907, 1107.767, 1111.627, 1115.487, 1119.347, 1123.2069999999999, 1127.067, 1130.927, 1134.786, 1138.646, 1142.506, 1146.366, 1150.226, 1154.086, 1157.9460000000001, 1161.806, 1165.6660000000002, 1169.526, 1173.386, 1177.246, 1181.106, 1184.9660000000001, 1188.826, 1192.6860000000001, 1196.546, 1200.406, 1204.266, 1208.126, 1211.986, 1215.846, 1219.7060000000001, 1223.566, 1227.4260000000002, 1231.286, 1235.146, 1239.006, 1242.866, 1246.726, 1250.586, 1254.4460000000001, 1258.306, 1262.1660000000002, 1266.026, 1269.886, 1273.746, 1277.606, 1281.4660000000001, 1285.326, 1289.1860000000001, 1293.046, 1296.906, 1300.766, 1304.626, 1308.486, 1312.346, 1316.2060000000001, 1320.066, 1323.9260000000002, 1327.786, 1331.646, 1335.506, 1339.366, 1343.226, 1347.086, 1350.9460000000001, 1354.806, 1358.6660000000002, 1362.526, 1366.386, 1370.246, 1374.106, 1377.9660000000001, 1381.826, 1385.6860000000001, 1389.545, 1393.405, 1397.265, 1401.125, 1404.985, 1408.845, 1412.705, 1416.565, 1420.425, 1424.285, 1428.145, 1432.005, 1435.865, 1439.725, 1443.585, 1447.445, 1451.305, 1455.165, 1459.025, 1462.885, 1466.745, 1470.605, 1474.465, 1478.325, 1482.185, 1486.045, 1489.905, 1493.765, 1497.625, 1501.485, 1505.345, 1509.205, 1513.065, 1516.925, 1520.785, 1524.645, 1528.505, 1532.365, 1536.225, 1540.085, 1543.945, 1547.805, 1551.665, 1555.525, 1559.385, 1563.245, 1567.105, 1570.965, 1574.825, 1578.685, 1582.545, 1586.405, 1590.265, 1594.125, 1597.985, 1601.845, 1605.705, 1609.565, 1613.425, 1617.285, 1621.145, 1625.005, 1628.865, 1632.725, 1636.585, 1640.445, 1644.3039999999999, 1648.164, 1652.024, 1655.884, 1659.744, 1663.604, 1667.464, 1671.3239999999998, 1675.184, 1679.0439999999999, 1682.904, 1686.764, 1690.624, 1694.484, 1698.344, 1702.204, 1706.0639999999999, 1709.924, 1713.7839999999999, 1717.644, 1721.504, 1725.364, 1729.224, 1733.0839999999998, 1736.944, 1740.8039999999999, 1744.664, 1748.524, 1752.384, 1756.244, 1760.104, 1763.964, 1767.8239999999998, 1771.684, 1775.5439999999999, 1779.404, 1783.264, 1787.124, 1790.984, 1794.844, 1798.704, 1802.5639999999999], \"y\": [0.002564213247863248, 0.0025795615982905995, 0.0026119046809116803, 0.002720772105413107, 0.002927206962962966, 0.0031561447350427333, 0.0032816292592592598, 0.003277347971509971, 0.00319436945014245, 0.0030820400626780597, 0.0029845818319088327, 0.002918544008547007, 0.0028711244301994304, 0.002836391729344729, 0.0028527983304843314, 0.002978735871794872, 0.0032642968860398846, 0.003676010601139602, 0.003988186458689459, 0.004217121176638177, 0.00468242668945869, 0.005321316826210831, 0.005918106552706557, 0.006603627678062676, 0.007285968723646723, 0.007622137774928771, 0.007742801905982907, 0.007975274048433048, 0.008468217484330479, 0.009309339501424494, 0.010282900222222214, 0.010977346837606834, 0.011488089512820519, 0.012269595470085465, 0.01329285245868945, 0.014035410749287745, 0.014291687695156693, 0.01432215030484331, 0.014433421068376069, 0.014802187578347573, 0.015444500139601127, 0.016104510498575503, 0.016392337111111117, 0.016197158974358975, 0.01566162078062677, 0.015080008920227912, 0.014805670860398858, 0.014690345236467247, 0.014000091139601151, 0.012512148216524218, 0.011054207091168092, 0.010422311960113962, 0.010606493430199421, 0.010990456176638175, 0.010944374891737888, 0.010316104703703704, 0.009407230988603995, 0.008564347042735038, 0.00792952372934473, 0.007491577737891742, 0.007200198552706551, 0.00699472443019943, 0.006844472743589742, 0.00675636458404559, 0.006696107076923078, 0.006574862202279207, 0.006335297125356125, 0.0059646777635327655, 0.00544423195156695, 0.004818118433048431, 0.004253474142450145, 0.0038943876524216523, 0.003749677723646725, 0.003740767680911677, 0.0037801219430199434, 0.00381389881766382, 0.003831686210826209, 0.0038524983675213655, 0.003891011481481482, 0.003936669279202278, 0.003982531435897437, 0.004043112931623934, 0.004139419763532763, 0.00427620958974359, 0.0044445967179487155, 0.0046246357492877475, 0.00478070794586895, 0.0048824498945868955, 0.004929019102564101, 0.004937934849002849, 0.004924698772079771, 0.004894651646723646, 0.004852104737891735, 0.004800936774928773, 0.004732947467236464, 0.004625494430199428, 0.004479548264957269, 0.004338779062678063, 0.004246883720797718, 0.004197878923076923, 0.004158822148148145, 0.004100129008547006, 0.004033108062678063, 0.003991726336182338, 0.004000417746438744, 0.004060400125356127, 0.004158748806267804, 0.004270255424501426, 0.0043711846239316236, 0.004454750954415955, 0.00454102063817664, 0.00464324548148148, 0.004760190564102565, 0.004864232831908834, 0.004962967210826211, 0.005071970091168094, 0.005147616324786324, 0.005173039071225068, 0.005173704920227925, 0.005161409162393162, 0.005126841581196582, 0.005074469034188038, 0.005008532378917381, 0.004904568515669511, 0.004782008438746441, 0.004668944492877493, 0.004590149678062681, 0.004570458652421654, 0.004611910433048434, 0.004697686227920228, 0.004812025817663817, 0.00490957018233618, 0.004985733452991455, 0.00502185089458689, 0.00501207854415954, 0.004944632091168092, 0.004868896527065529, 0.004774494065527062, 0.004673488450142449, 0.004573365230769225, 0.004491289404558404, 0.004402045735042733, 0.0042198601310541334, 0.00398287215384615, 0.003822385085470088, 0.003487625267806269, 0.003141737977207978, 0.0026913264017094022, 0.0022957865299145287, 0.0019149310085470072, 0.0015949629316239318, 0.0013892929800569805, 0.00121048966951567, 0.0010656421823361836, 0.0009471250313390318, 0.0008792027578347591, 0.0008105312934472931, 0.0007901674358974361, 0.000761405128205129, 0.0007727678233618232, 0.000787238273504273, 0.0007813508860398863, 0.0007274209142450141, 0.0006794269615384615, 0.0006365039230769225, 0.0005994646421652423, 0.0005828922284900282, 0.0005678264011396014, 0.0005706938535612535, 0.0006020540535612539, 0.000647805441837607, 0.000728953948188034, 0.0008356945954131053, 0.0009119728550712236, 0.0010167424500854706, 0.0010995164190028494, 0.0011826907965811976, 0.0012451421566951567, 0.0012807140683760675, 0.0012976299829059825, 0.0012968177948717951, 0.0012794615327635314, 0.0012324626065527069, 0.0011472522439601135, 0.001016018947008546, 0.0008771998997150995, 0.0007308881533048432, 0.0005834209138746434, 0.00048785609360968635, 0.00040821891715099704, 0.00038342447268376083, 0.00039057732011396027, 0.0003828431035897434, 0.0003931316346509972, 0.00044581928250712275, 0.0004888287187464386, 0.0005398022290598294, 0.0005628227925925924, 0.0006014217002849, 0.0006308941049857557, 0.0006643815823361819, 0.0007025168250712254, 0.0007434118666666663, 0.0007887698831908829, 0.0008635415811965803, 0.0009343194444444447, 0.0010243727834757831, 0.001145456524216524, 0.0013204387521367524, 0.0014781918774928776, 0.0016429295641025637, 0.001762957914529915, 0.001867577427350427, 0.0019751784700854694, 0.002006766689458689, 0.001966866829059828, 0.001851451213675215, 0.0016860764045584053, 0.0015311708945868945, 0.00133228786039886, 0.0011337362678062672, 0.0009105829116809112, 0.0007250689458689458, 0.0005468129031339032, 0.00038451751680911657, 0.0002671098148148151, 0.00017474724245014243, 0.00010562632729344732, 7.027671680056976e-05, 4.6062649501424486e-05, 3.27012903031339e-05, 2.1267561259259278e-05, 1.1758513347578342e-05, 7.428452711396013e-06, 7.428452711396013e-06], \"line\": {\"color\": \"green\"}, \"name\": \"Authentic Strawberry\"}, {\"type\": \"scatter\", \"x\": [899.327, 903.187, 907.047, 910.9069999999999, 914.7669999999999, 918.627, 922.487, 926.347, 930.207, 934.067, 937.927, 941.7869999999999, 945.6469999999999, 949.507, 953.367, 957.227, 961.087, 964.947, 968.807, 972.6669999999999, 976.5269999999999, 980.387, 984.247, 988.107, 991.967, 995.827, 999.687, 1003.547, 1007.4069999999999, 1011.2669999999999, 1015.127, 1018.987, 1022.847, 1026.7069999999999, 1030.567, 1034.427, 1038.287, 1042.147, 1046.007, 1049.867, 1053.7269999999999, 1057.587, 1061.447, 1065.307, 1069.167, 1073.027, 1076.887, 1080.747, 1084.607, 1088.4669999999999, 1092.327, 1096.187, 1100.047, 1103.907, 1107.767, 1111.627, 1115.487, 1119.347, 1123.2069999999999, 1127.067, 1130.927, 1134.786, 1138.646, 1142.506, 1146.366, 1150.226, 1154.086, 1157.9460000000001, 1161.806, 1165.6660000000002, 1169.526, 1173.386, 1177.246, 1181.106, 1184.9660000000001, 1188.826, 1192.6860000000001, 1196.546, 1200.406, 1204.266, 1208.126, 1211.986, 1215.846, 1219.7060000000001, 1223.566, 1227.4260000000002, 1231.286, 1235.146, 1239.006, 1242.866, 1246.726, 1250.586, 1254.4460000000001, 1258.306, 1262.1660000000002, 1266.026, 1269.886, 1273.746, 1277.606, 1281.4660000000001, 1285.326, 1289.1860000000001, 1293.046, 1296.906, 1300.766, 1304.626, 1308.486, 1312.346, 1316.2060000000001, 1320.066, 1323.9260000000002, 1327.786, 1331.646, 1335.506, 1339.366, 1343.226, 1347.086, 1350.9460000000001, 1354.806, 1358.6660000000002, 1362.526, 1366.386, 1370.246, 1374.106, 1377.9660000000001, 1381.826, 1385.6860000000001, 1389.545, 1393.405, 1397.265, 1401.125, 1404.985, 1408.845, 1412.705, 1416.565, 1420.425, 1424.285, 1428.145, 1432.005, 1435.865, 1439.725, 1443.585, 1447.445, 1451.305, 1455.165, 1459.025, 1462.885, 1466.745, 1470.605, 1474.465, 1478.325, 1482.185, 1486.045, 1489.905, 1493.765, 1497.625, 1501.485, 1505.345, 1509.205, 1513.065, 1516.925, 1520.785, 1524.645, 1528.505, 1532.365, 1536.225, 1540.085, 1543.945, 1547.805, 1551.665, 1555.525, 1559.385, 1563.245, 1567.105, 1570.965, 1574.825, 1578.685, 1582.545, 1586.405, 1590.265, 1594.125, 1597.985, 1601.845, 1605.705, 1609.565, 1613.425, 1617.285, 1621.145, 1625.005, 1628.865, 1632.725, 1636.585, 1640.445, 1644.3039999999999, 1648.164, 1652.024, 1655.884, 1659.744, 1663.604, 1667.464, 1671.3239999999998, 1675.184, 1679.0439999999999, 1682.904, 1686.764, 1690.624, 1694.484, 1698.344, 1702.204, 1706.0639999999999, 1709.924, 1713.7839999999999, 1717.644, 1721.504, 1725.364, 1729.224, 1733.0839999999998, 1736.944, 1740.8039999999999, 1744.664, 1748.524, 1752.384, 1756.244, 1760.104, 1763.964, 1767.8239999999998, 1771.684, 1775.5439999999999, 1779.404, 1783.264, 1787.124, 1790.984, 1794.844, 1798.704, 1802.5639999999999], \"y\": [0.0023857976534810144, 0.002400840433544303, 0.0024300533101265787, 0.0025390180443037973, 0.0027470554208860747, 0.0029816892784810126, 0.0031167564873417703, 0.003116817143987343, 0.0030412423164556954, 0.0029456557642405057, 0.0028637968528480995, 0.002812406430379748, 0.00278141934651899, 0.0027633505664556956, 0.002791949680379747, 0.002922435939873416, 0.0032191731851265813, 0.0036461256170886103, 0.003955000756329118, 0.004174705707278478, 0.0046408452072784845, 0.005282887647151892, 0.005876682811708862, 0.006549027764240499, 0.007213926273734172, 0.007540207773734172, 0.00766062320253165, 0.007895349969936708, 0.00838412669936708, 0.00919481998417721, 0.010116733310126585, 0.010789831819620246, 0.011334653813291141, 0.012160506637658233, 0.013205127498417724, 0.013965853436708855, 0.014240753101265814, 0.014269158400316456, 0.014355061142405066, 0.014702688422468352, 0.015342237507911378, 0.01599591639240504, 0.016267408181962015, 0.01604836562658228, 0.015487548473101265, 0.014898071061708876, 0.014635312625000004, 0.01453340512183544, 0.013856570780063287, 0.012381821121835428, 0.010918424512658226, 0.010252486386075944, 0.010378235156645566, 0.010690411794303785, 0.010584997196202527, 0.009944555786392395, 0.009077249200949348, 0.008303129006329117, 0.007734721145569628, 0.007341234906645578, 0.007065604181962024, 0.006853368289556965, 0.0066836433955696235, 0.006569576177215184, 0.006488395935126582, 0.006372377962025311, 0.006172038090189874, 0.005861441273734178, 0.0054121640000000075, 0.004865573240506335, 0.004379033487341768, 0.004086658960443041, 0.0039953247183544295, 0.004032658511075952, 0.004117720712025315, 0.004190889814873422, 0.004235192821202529, 0.004272744466772147, 0.004324291518987339, 0.004385017186708861, 0.004452769213607594, 0.004541211636075946, 0.004660704564873425, 0.004805787613924046, 0.0049642885300632935, 0.0051148366724683555, 0.005226784370253166, 0.005275658240506336, 0.005263283509493673, 0.005211127197784806, 0.005140361992088607, 0.005061471572784807, 0.004984213675632911, 0.004914241080696206, 0.004838807291139232, 0.004730681235759487, 0.004589802454113928, 0.004454048878164558, 0.004359694300632911, 0.00430104921835443, 0.004254626558544301, 0.004203502613924057, 0.004158302843354428, 0.0041420030854430415, 0.004170058507911395, 0.004240451634493665, 0.004339273037974687, 0.004444451893987339, 0.004539770441455694, 0.0046173342484177185, 0.004691294596518983, 0.004779037555379748, 0.004884087280063295, 0.00498583885126582, 0.00508537784335443, 0.00517190688449367, 0.005215103117088606, 0.005210612943037975, 0.0051800603639240534, 0.00513728232594936, 0.005077602096518986, 0.004992282670886075, 0.0048974737721519, 0.004783413047468358, 0.004659141794303799, 0.004546488330696196, 0.004483262151898739, 0.004485597531645569, 0.00454672974050633, 0.0046572036250000035, 0.00478516857594936, 0.0048896197357594946, 0.004966168552215191, 0.004995825881329114, 0.004985685593354431, 0.004912727405063297, 0.004814150006329113, 0.004697602702531647, 0.0045717711329113925, 0.004443132462025312, 0.004305256974683545, 0.004167859561708859, 0.003986811327531642, 0.003780096993670884, 0.0036538590110759515, 0.003354149996835443, 0.0030006659082278462, 0.0025503067958860767, 0.0021581498560126556, 0.001776020427215189, 0.0014348768037974681, 0.0012127013749999992, 0.0010396943370253155, 0.0009108559082278479, 0.0007883144303797468, 0.0007231573580696208, 0.0006564824728164546, 0.000647698247088608, 0.0006420818129113931, 0.0006209449100348103, 0.0006151647752689879, 0.0006034914566455691, 0.000551232045363924, 0.0005026303231819614, 0.0004670417004746827, 0.00044022304416455716, 0.00044048648569620203, 0.0004481879266313299, 0.00044031610058370267, 0.00045838197318670917, 0.0004933057699240506, 0.0005579709442958856, 0.0006059675897151906, 0.0006495601281582282, 0.0007287919556439872, 0.0007912904404746834, 0.0008535154231012669, 0.0008930027693987339, 0.0009178338914113931, 0.0009286781859651894, 0.0009178413296518996, 0.0008858098762341783, 0.0008340440768037972, 0.0007661809849525308, 0.0006817817454889235, 0.0006033206957278483, 0.0005387022960917731, 0.00047642732155538017, 0.0004494086189556959, 0.00042741239704588614, 0.000431598870348102, 0.000483600312833861, 0.0004917054579272153, 0.0005173196733655067, 0.0005838232463291142, 0.0006277968481329108, 0.0006469084037500003, 0.000628168277721519, 0.0006458111330118669, 0.0006726626831487345, 0.0007194680231012655, 0.0007624156861708864, 0.0008158890981487337, 0.0008971534246044304, 0.0010171977571139244, 0.0011070553759952532, 0.001238873169240507, 0.0014320305425791127, 0.0016762766601265814, 0.0018866242102689866, 0.002105717163354431, 0.002281368534968353, 0.002447027386550633, 0.0025776369301107583, 0.002608801067088609, 0.002565068147566457, 0.0024356331789556975, 0.0022220006128164547, 0.0020093317773417696, 0.0017448698381329116, 0.0014828280188291148, 0.0011757023128164553, 0.0009132087682594947, 0.0006839392178006334, 0.00048007533060284745, 0.00033903037883227825, 0.00024186513710917757, 0.00015691095626898724, 0.00010420387845569612, 7.030449020031649e-05, 4.549658933496841e-05, 3.377815084636075e-05, 2.2632908308544297e-05, 9.985530664715184e-06, 8.885956723259494e-06], \"line\": {\"color\": \"red\"}, \"name\": \"Adulterated Strawberry\"}], {\"title\": \"Comparison of Strawberry and Non-strawberry samples\", \"xaxis\": {\"title\": \"Wavenumbers\"}, \"yaxis\": {\"title\": \"Absorption\"}}, {\"showLink\": true, \"linkText\": \"Export to plot.ly\"})});</script>"
      ],
      "text/vnd.plotly.v1+html": [
       "<div id=\"945f4d3f-8f30-4c37-adf1-e52c849ca1c5\" style=\"height: 525px; width: 100%;\" class=\"plotly-graph-div\"></div><script type=\"text/javascript\">require([\"plotly\"], function(Plotly) { window.PLOTLYENV=window.PLOTLYENV || {};window.PLOTLYENV.BASE_URL=\"https://plot.ly\";Plotly.newPlot(\"945f4d3f-8f30-4c37-adf1-e52c849ca1c5\", [{\"type\": \"scatter\", \"x\": [899.327, 903.187, 907.047, 910.9069999999999, 914.7669999999999, 918.627, 922.487, 926.347, 930.207, 934.067, 937.927, 941.7869999999999, 945.6469999999999, 949.507, 953.367, 957.227, 961.087, 964.947, 968.807, 972.6669999999999, 976.5269999999999, 980.387, 984.247, 988.107, 991.967, 995.827, 999.687, 1003.547, 1007.4069999999999, 1011.2669999999999, 1015.127, 1018.987, 1022.847, 1026.7069999999999, 1030.567, 1034.427, 1038.287, 1042.147, 1046.007, 1049.867, 1053.7269999999999, 1057.587, 1061.447, 1065.307, 1069.167, 1073.027, 1076.887, 1080.747, 1084.607, 1088.4669999999999, 1092.327, 1096.187, 1100.047, 1103.907, 1107.767, 1111.627, 1115.487, 1119.347, 1123.2069999999999, 1127.067, 1130.927, 1134.786, 1138.646, 1142.506, 1146.366, 1150.226, 1154.086, 1157.9460000000001, 1161.806, 1165.6660000000002, 1169.526, 1173.386, 1177.246, 1181.106, 1184.9660000000001, 1188.826, 1192.6860000000001, 1196.546, 1200.406, 1204.266, 1208.126, 1211.986, 1215.846, 1219.7060000000001, 1223.566, 1227.4260000000002, 1231.286, 1235.146, 1239.006, 1242.866, 1246.726, 1250.586, 1254.4460000000001, 1258.306, 1262.1660000000002, 1266.026, 1269.886, 1273.746, 1277.606, 1281.4660000000001, 1285.326, 1289.1860000000001, 1293.046, 1296.906, 1300.766, 1304.626, 1308.486, 1312.346, 1316.2060000000001, 1320.066, 1323.9260000000002, 1327.786, 1331.646, 1335.506, 1339.366, 1343.226, 1347.086, 1350.9460000000001, 1354.806, 1358.6660000000002, 1362.526, 1366.386, 1370.246, 1374.106, 1377.9660000000001, 1381.826, 1385.6860000000001, 1389.545, 1393.405, 1397.265, 1401.125, 1404.985, 1408.845, 1412.705, 1416.565, 1420.425, 1424.285, 1428.145, 1432.005, 1435.865, 1439.725, 1443.585, 1447.445, 1451.305, 1455.165, 1459.025, 1462.885, 1466.745, 1470.605, 1474.465, 1478.325, 1482.185, 1486.045, 1489.905, 1493.765, 1497.625, 1501.485, 1505.345, 1509.205, 1513.065, 1516.925, 1520.785, 1524.645, 1528.505, 1532.365, 1536.225, 1540.085, 1543.945, 1547.805, 1551.665, 1555.525, 1559.385, 1563.245, 1567.105, 1570.965, 1574.825, 1578.685, 1582.545, 1586.405, 1590.265, 1594.125, 1597.985, 1601.845, 1605.705, 1609.565, 1613.425, 1617.285, 1621.145, 1625.005, 1628.865, 1632.725, 1636.585, 1640.445, 1644.3039999999999, 1648.164, 1652.024, 1655.884, 1659.744, 1663.604, 1667.464, 1671.3239999999998, 1675.184, 1679.0439999999999, 1682.904, 1686.764, 1690.624, 1694.484, 1698.344, 1702.204, 1706.0639999999999, 1709.924, 1713.7839999999999, 1717.644, 1721.504, 1725.364, 1729.224, 1733.0839999999998, 1736.944, 1740.8039999999999, 1744.664, 1748.524, 1752.384, 1756.244, 1760.104, 1763.964, 1767.8239999999998, 1771.684, 1775.5439999999999, 1779.404, 1783.264, 1787.124, 1790.984, 1794.844, 1798.704, 1802.5639999999999], \"y\": [0.002564213247863248, 0.0025795615982905995, 0.0026119046809116803, 0.002720772105413107, 0.002927206962962966, 0.0031561447350427333, 0.0032816292592592598, 0.003277347971509971, 0.00319436945014245, 0.0030820400626780597, 0.0029845818319088327, 0.002918544008547007, 0.0028711244301994304, 0.002836391729344729, 0.0028527983304843314, 0.002978735871794872, 0.0032642968860398846, 0.003676010601139602, 0.003988186458689459, 0.004217121176638177, 0.00468242668945869, 0.005321316826210831, 0.005918106552706557, 0.006603627678062676, 0.007285968723646723, 0.007622137774928771, 0.007742801905982907, 0.007975274048433048, 0.008468217484330479, 0.009309339501424494, 0.010282900222222214, 0.010977346837606834, 0.011488089512820519, 0.012269595470085465, 0.01329285245868945, 0.014035410749287745, 0.014291687695156693, 0.01432215030484331, 0.014433421068376069, 0.014802187578347573, 0.015444500139601127, 0.016104510498575503, 0.016392337111111117, 0.016197158974358975, 0.01566162078062677, 0.015080008920227912, 0.014805670860398858, 0.014690345236467247, 0.014000091139601151, 0.012512148216524218, 0.011054207091168092, 0.010422311960113962, 0.010606493430199421, 0.010990456176638175, 0.010944374891737888, 0.010316104703703704, 0.009407230988603995, 0.008564347042735038, 0.00792952372934473, 0.007491577737891742, 0.007200198552706551, 0.00699472443019943, 0.006844472743589742, 0.00675636458404559, 0.006696107076923078, 0.006574862202279207, 0.006335297125356125, 0.0059646777635327655, 0.00544423195156695, 0.004818118433048431, 0.004253474142450145, 0.0038943876524216523, 0.003749677723646725, 0.003740767680911677, 0.0037801219430199434, 0.00381389881766382, 0.003831686210826209, 0.0038524983675213655, 0.003891011481481482, 0.003936669279202278, 0.003982531435897437, 0.004043112931623934, 0.004139419763532763, 0.00427620958974359, 0.0044445967179487155, 0.0046246357492877475, 0.00478070794586895, 0.0048824498945868955, 0.004929019102564101, 0.004937934849002849, 0.004924698772079771, 0.004894651646723646, 0.004852104737891735, 0.004800936774928773, 0.004732947467236464, 0.004625494430199428, 0.004479548264957269, 0.004338779062678063, 0.004246883720797718, 0.004197878923076923, 0.004158822148148145, 0.004100129008547006, 0.004033108062678063, 0.003991726336182338, 0.004000417746438744, 0.004060400125356127, 0.004158748806267804, 0.004270255424501426, 0.0043711846239316236, 0.004454750954415955, 0.00454102063817664, 0.00464324548148148, 0.004760190564102565, 0.004864232831908834, 0.004962967210826211, 0.005071970091168094, 0.005147616324786324, 0.005173039071225068, 0.005173704920227925, 0.005161409162393162, 0.005126841581196582, 0.005074469034188038, 0.005008532378917381, 0.004904568515669511, 0.004782008438746441, 0.004668944492877493, 0.004590149678062681, 0.004570458652421654, 0.004611910433048434, 0.004697686227920228, 0.004812025817663817, 0.00490957018233618, 0.004985733452991455, 0.00502185089458689, 0.00501207854415954, 0.004944632091168092, 0.004868896527065529, 0.004774494065527062, 0.004673488450142449, 0.004573365230769225, 0.004491289404558404, 0.004402045735042733, 0.0042198601310541334, 0.00398287215384615, 0.003822385085470088, 0.003487625267806269, 0.003141737977207978, 0.0026913264017094022, 0.0022957865299145287, 0.0019149310085470072, 0.0015949629316239318, 0.0013892929800569805, 0.00121048966951567, 0.0010656421823361836, 0.0009471250313390318, 0.0008792027578347591, 0.0008105312934472931, 0.0007901674358974361, 0.000761405128205129, 0.0007727678233618232, 0.000787238273504273, 0.0007813508860398863, 0.0007274209142450141, 0.0006794269615384615, 0.0006365039230769225, 0.0005994646421652423, 0.0005828922284900282, 0.0005678264011396014, 0.0005706938535612535, 0.0006020540535612539, 0.000647805441837607, 0.000728953948188034, 0.0008356945954131053, 0.0009119728550712236, 0.0010167424500854706, 0.0010995164190028494, 0.0011826907965811976, 0.0012451421566951567, 0.0012807140683760675, 0.0012976299829059825, 0.0012968177948717951, 0.0012794615327635314, 0.0012324626065527069, 0.0011472522439601135, 0.001016018947008546, 0.0008771998997150995, 0.0007308881533048432, 0.0005834209138746434, 0.00048785609360968635, 0.00040821891715099704, 0.00038342447268376083, 0.00039057732011396027, 0.0003828431035897434, 0.0003931316346509972, 0.00044581928250712275, 0.0004888287187464386, 0.0005398022290598294, 0.0005628227925925924, 0.0006014217002849, 0.0006308941049857557, 0.0006643815823361819, 0.0007025168250712254, 0.0007434118666666663, 0.0007887698831908829, 0.0008635415811965803, 0.0009343194444444447, 0.0010243727834757831, 0.001145456524216524, 0.0013204387521367524, 0.0014781918774928776, 0.0016429295641025637, 0.001762957914529915, 0.001867577427350427, 0.0019751784700854694, 0.002006766689458689, 0.001966866829059828, 0.001851451213675215, 0.0016860764045584053, 0.0015311708945868945, 0.00133228786039886, 0.0011337362678062672, 0.0009105829116809112, 0.0007250689458689458, 0.0005468129031339032, 0.00038451751680911657, 0.0002671098148148151, 0.00017474724245014243, 0.00010562632729344732, 7.027671680056976e-05, 4.6062649501424486e-05, 3.27012903031339e-05, 2.1267561259259278e-05, 1.1758513347578342e-05, 7.428452711396013e-06, 7.428452711396013e-06], \"line\": {\"color\": \"green\"}, \"name\": \"Authentic Strawberry\"}, {\"type\": \"scatter\", \"x\": [899.327, 903.187, 907.047, 910.9069999999999, 914.7669999999999, 918.627, 922.487, 926.347, 930.207, 934.067, 937.927, 941.7869999999999, 945.6469999999999, 949.507, 953.367, 957.227, 961.087, 964.947, 968.807, 972.6669999999999, 976.5269999999999, 980.387, 984.247, 988.107, 991.967, 995.827, 999.687, 1003.547, 1007.4069999999999, 1011.2669999999999, 1015.127, 1018.987, 1022.847, 1026.7069999999999, 1030.567, 1034.427, 1038.287, 1042.147, 1046.007, 1049.867, 1053.7269999999999, 1057.587, 1061.447, 1065.307, 1069.167, 1073.027, 1076.887, 1080.747, 1084.607, 1088.4669999999999, 1092.327, 1096.187, 1100.047, 1103.907, 1107.767, 1111.627, 1115.487, 1119.347, 1123.2069999999999, 1127.067, 1130.927, 1134.786, 1138.646, 1142.506, 1146.366, 1150.226, 1154.086, 1157.9460000000001, 1161.806, 1165.6660000000002, 1169.526, 1173.386, 1177.246, 1181.106, 1184.9660000000001, 1188.826, 1192.6860000000001, 1196.546, 1200.406, 1204.266, 1208.126, 1211.986, 1215.846, 1219.7060000000001, 1223.566, 1227.4260000000002, 1231.286, 1235.146, 1239.006, 1242.866, 1246.726, 1250.586, 1254.4460000000001, 1258.306, 1262.1660000000002, 1266.026, 1269.886, 1273.746, 1277.606, 1281.4660000000001, 1285.326, 1289.1860000000001, 1293.046, 1296.906, 1300.766, 1304.626, 1308.486, 1312.346, 1316.2060000000001, 1320.066, 1323.9260000000002, 1327.786, 1331.646, 1335.506, 1339.366, 1343.226, 1347.086, 1350.9460000000001, 1354.806, 1358.6660000000002, 1362.526, 1366.386, 1370.246, 1374.106, 1377.9660000000001, 1381.826, 1385.6860000000001, 1389.545, 1393.405, 1397.265, 1401.125, 1404.985, 1408.845, 1412.705, 1416.565, 1420.425, 1424.285, 1428.145, 1432.005, 1435.865, 1439.725, 1443.585, 1447.445, 1451.305, 1455.165, 1459.025, 1462.885, 1466.745, 1470.605, 1474.465, 1478.325, 1482.185, 1486.045, 1489.905, 1493.765, 1497.625, 1501.485, 1505.345, 1509.205, 1513.065, 1516.925, 1520.785, 1524.645, 1528.505, 1532.365, 1536.225, 1540.085, 1543.945, 1547.805, 1551.665, 1555.525, 1559.385, 1563.245, 1567.105, 1570.965, 1574.825, 1578.685, 1582.545, 1586.405, 1590.265, 1594.125, 1597.985, 1601.845, 1605.705, 1609.565, 1613.425, 1617.285, 1621.145, 1625.005, 1628.865, 1632.725, 1636.585, 1640.445, 1644.3039999999999, 1648.164, 1652.024, 1655.884, 1659.744, 1663.604, 1667.464, 1671.3239999999998, 1675.184, 1679.0439999999999, 1682.904, 1686.764, 1690.624, 1694.484, 1698.344, 1702.204, 1706.0639999999999, 1709.924, 1713.7839999999999, 1717.644, 1721.504, 1725.364, 1729.224, 1733.0839999999998, 1736.944, 1740.8039999999999, 1744.664, 1748.524, 1752.384, 1756.244, 1760.104, 1763.964, 1767.8239999999998, 1771.684, 1775.5439999999999, 1779.404, 1783.264, 1787.124, 1790.984, 1794.844, 1798.704, 1802.5639999999999], \"y\": [0.0023857976534810144, 0.002400840433544303, 0.0024300533101265787, 0.0025390180443037973, 0.0027470554208860747, 0.0029816892784810126, 0.0031167564873417703, 0.003116817143987343, 0.0030412423164556954, 0.0029456557642405057, 0.0028637968528480995, 0.002812406430379748, 0.00278141934651899, 0.0027633505664556956, 0.002791949680379747, 0.002922435939873416, 0.0032191731851265813, 0.0036461256170886103, 0.003955000756329118, 0.004174705707278478, 0.0046408452072784845, 0.005282887647151892, 0.005876682811708862, 0.006549027764240499, 0.007213926273734172, 0.007540207773734172, 0.00766062320253165, 0.007895349969936708, 0.00838412669936708, 0.00919481998417721, 0.010116733310126585, 0.010789831819620246, 0.011334653813291141, 0.012160506637658233, 0.013205127498417724, 0.013965853436708855, 0.014240753101265814, 0.014269158400316456, 0.014355061142405066, 0.014702688422468352, 0.015342237507911378, 0.01599591639240504, 0.016267408181962015, 0.01604836562658228, 0.015487548473101265, 0.014898071061708876, 0.014635312625000004, 0.01453340512183544, 0.013856570780063287, 0.012381821121835428, 0.010918424512658226, 0.010252486386075944, 0.010378235156645566, 0.010690411794303785, 0.010584997196202527, 0.009944555786392395, 0.009077249200949348, 0.008303129006329117, 0.007734721145569628, 0.007341234906645578, 0.007065604181962024, 0.006853368289556965, 0.0066836433955696235, 0.006569576177215184, 0.006488395935126582, 0.006372377962025311, 0.006172038090189874, 0.005861441273734178, 0.0054121640000000075, 0.004865573240506335, 0.004379033487341768, 0.004086658960443041, 0.0039953247183544295, 0.004032658511075952, 0.004117720712025315, 0.004190889814873422, 0.004235192821202529, 0.004272744466772147, 0.004324291518987339, 0.004385017186708861, 0.004452769213607594, 0.004541211636075946, 0.004660704564873425, 0.004805787613924046, 0.0049642885300632935, 0.0051148366724683555, 0.005226784370253166, 0.005275658240506336, 0.005263283509493673, 0.005211127197784806, 0.005140361992088607, 0.005061471572784807, 0.004984213675632911, 0.004914241080696206, 0.004838807291139232, 0.004730681235759487, 0.004589802454113928, 0.004454048878164558, 0.004359694300632911, 0.00430104921835443, 0.004254626558544301, 0.004203502613924057, 0.004158302843354428, 0.0041420030854430415, 0.004170058507911395, 0.004240451634493665, 0.004339273037974687, 0.004444451893987339, 0.004539770441455694, 0.0046173342484177185, 0.004691294596518983, 0.004779037555379748, 0.004884087280063295, 0.00498583885126582, 0.00508537784335443, 0.00517190688449367, 0.005215103117088606, 0.005210612943037975, 0.0051800603639240534, 0.00513728232594936, 0.005077602096518986, 0.004992282670886075, 0.0048974737721519, 0.004783413047468358, 0.004659141794303799, 0.004546488330696196, 0.004483262151898739, 0.004485597531645569, 0.00454672974050633, 0.0046572036250000035, 0.00478516857594936, 0.0048896197357594946, 0.004966168552215191, 0.004995825881329114, 0.004985685593354431, 0.004912727405063297, 0.004814150006329113, 0.004697602702531647, 0.0045717711329113925, 0.004443132462025312, 0.004305256974683545, 0.004167859561708859, 0.003986811327531642, 0.003780096993670884, 0.0036538590110759515, 0.003354149996835443, 0.0030006659082278462, 0.0025503067958860767, 0.0021581498560126556, 0.001776020427215189, 0.0014348768037974681, 0.0012127013749999992, 0.0010396943370253155, 0.0009108559082278479, 0.0007883144303797468, 0.0007231573580696208, 0.0006564824728164546, 0.000647698247088608, 0.0006420818129113931, 0.0006209449100348103, 0.0006151647752689879, 0.0006034914566455691, 0.000551232045363924, 0.0005026303231819614, 0.0004670417004746827, 0.00044022304416455716, 0.00044048648569620203, 0.0004481879266313299, 0.00044031610058370267, 0.00045838197318670917, 0.0004933057699240506, 0.0005579709442958856, 0.0006059675897151906, 0.0006495601281582282, 0.0007287919556439872, 0.0007912904404746834, 0.0008535154231012669, 0.0008930027693987339, 0.0009178338914113931, 0.0009286781859651894, 0.0009178413296518996, 0.0008858098762341783, 0.0008340440768037972, 0.0007661809849525308, 0.0006817817454889235, 0.0006033206957278483, 0.0005387022960917731, 0.00047642732155538017, 0.0004494086189556959, 0.00042741239704588614, 0.000431598870348102, 0.000483600312833861, 0.0004917054579272153, 0.0005173196733655067, 0.0005838232463291142, 0.0006277968481329108, 0.0006469084037500003, 0.000628168277721519, 0.0006458111330118669, 0.0006726626831487345, 0.0007194680231012655, 0.0007624156861708864, 0.0008158890981487337, 0.0008971534246044304, 0.0010171977571139244, 0.0011070553759952532, 0.001238873169240507, 0.0014320305425791127, 0.0016762766601265814, 0.0018866242102689866, 0.002105717163354431, 0.002281368534968353, 0.002447027386550633, 0.0025776369301107583, 0.002608801067088609, 0.002565068147566457, 0.0024356331789556975, 0.0022220006128164547, 0.0020093317773417696, 0.0017448698381329116, 0.0014828280188291148, 0.0011757023128164553, 0.0009132087682594947, 0.0006839392178006334, 0.00048007533060284745, 0.00033903037883227825, 0.00024186513710917757, 0.00015691095626898724, 0.00010420387845569612, 7.030449020031649e-05, 4.549658933496841e-05, 3.377815084636075e-05, 2.2632908308544297e-05, 9.985530664715184e-06, 8.885956723259494e-06], \"line\": {\"color\": \"red\"}, \"name\": \"Adulterated Strawberry\"}], {\"title\": \"Comparison of Strawberry and Non-strawberry samples\", \"xaxis\": {\"title\": \"Wavenumbers\"}, \"yaxis\": {\"title\": \"Absorption\"}}, {\"showLink\": true, \"linkText\": \"Export to plot.ly\"})});</script>"
      ]
     },
     "metadata": {},
     "output_type": "display_data"
    }
   ],
   "source": [
    "data1 = go.Scatter(x = x_fruit_avg.index, y = x_fruit_avg, line = dict(color = 'green'), name = 'Authentic Strawberry')\n",
    "data2 = go.Scatter(x = x_non_fruit_avg.index, y = x_non_fruit_avg, line = dict(color='red'), name = 'Adulterated Strawberry')\n",
    "layout = go.Layout(title = 'Comparison of Strawberry and Non-strawberry samples', xaxis = dict(title = 'Wavenumbers'),\n",
    "                  yaxis = dict(title = 'Absorption'))\n",
    "fig = dict(data = [data1, data2], layout = layout)\n",
    "\n",
    "py.iplot(fig)"
   ]
  },
  {
   "cell_type": "markdown",
   "metadata": {},
   "source": [
    "From this graph, we can see there might be three regions that authentic and adulterated samples differ(e.g., 1700-1750, 1550-1620 and 1180-1250 regions). We will have a discussion later on"
   ]
  },
  {
   "cell_type": "markdown",
   "metadata": {},
   "source": [
    "## Section 2. PCA visualization"
   ]
  },
  {
   "cell_type": "code",
   "execution_count": 12,
   "metadata": {
    "collapsed": false
   },
   "outputs": [],
   "source": [
    "from sklearn.decomposition import PCA\n",
    "\n",
    "pca = PCA()\n",
    "x_transform = pca.fit_transform(x)"
   ]
  },
  {
   "cell_type": "markdown",
   "metadata": {},
   "source": [
    "It seems like in the sample projection on first two principal components, authentic and adulterated samples could be efficiently seperated by radial boundary. In this case, non-linear method (e.g., knn, rf, and svm) might perform better than linear classification method(e.g., logistic). We will have a discussion later."
   ]
  },
  {
   "cell_type": "code",
   "execution_count": 13,
   "metadata": {
    "collapsed": false
   },
   "outputs": [
    {
     "data": {
      "text/plain": [
       "<matplotlib.colorbar.Colorbar at 0x1761d3109b0>"
      ]
     },
     "execution_count": 13,
     "metadata": {},
     "output_type": "execute_result"
    },
    {
     "data": {
      "image/png": "[encoded data removed]",
      "text/plain": [
       "<matplotlib.figure.Figure at 0x1761d218cf8>"
      ]
     },
     "metadata": {},
     "output_type": "display_data"
    }
   ],
   "source": [
    "plt.scatter(x_transform[:,0],x_transform[:,1], c=y)\n",
    "plt.xlabel('PC1')\n",
    "plt.ylabel('PC2')\n",
    "plt.title('Spectrum projection using first two principle components')\n",
    "plt.colorbar()"
   ]
  },
  {
   "cell_type": "code",
   "execution_count": 14,
   "metadata": {
    "collapsed": false
   },
   "outputs": [
    {
     "data": {
      "text/plain": [
       "<matplotlib.text.Text at 0x1761aa2d7f0>"
      ]
     },
     "execution_count": 14,
     "metadata": {},
     "output_type": "execute_result"
    },
    {
     "data": {
      "image/png": "[encoded data removed]",
      "text/plain": [
       "<matplotlib.figure.Figure at 0x1761d319a58>"
      ]
     },
     "metadata": {},
     "output_type": "display_data"
    }
   ],
   "source": [
    "# Plot variance explaiend vs. number of principal components\n",
    "plt.plot(np.cumsum(pca.explained_variance_ratio_))\n",
    "plt.plot([0,200], [0.95, 0.95], color = 'red', linewidth = 3, alpha = 0.5)\n",
    "plt.annotate('95% Variance Explained', xy=(0,0.96), xytext=(0,0.96), color = 'r')\n",
    "plt.xlabel('Number of Principal Components')\n",
    "plt.ylabel('Variance Explained')"
   ]
  },
  {
   "cell_type": "code",
   "execution_count": 15,
   "metadata": {
    "collapsed": false
   },
   "outputs": [
    {
     "data": {
      "text/plain": [
       "0.97550780846436103"
      ]
     },
     "execution_count": 15,
     "metadata": {},
     "output_type": "execute_result"
    }
   ],
   "source": [
    "# Using first 4 principle components, the variance could be efficiently explained (98% variance explained)\n",
    "np.sum(pca.explained_variance_ratio_[:4])"
   ]
  },
  {
   "cell_type": "markdown",
   "metadata": {
    "collapsed": true
   },
   "source": [
    "## Section 3. Modeling"
   ]
  },
  {
   "cell_type": "markdown",
   "metadata": {},
   "source": [
    "We would like to know how many number of principal componets do we need to have more accurate predictions, so we ranged the number of principle components within each model (1 to 19) and select the one that rendered the highest accuracy of prediction. It turns out that on average, the first 9 principle components provided the best prediction accuracy."
   ]
  },
  {
   "cell_type": "code",
   "execution_count": 16,
   "metadata": {
    "collapsed": true
   },
   "outputs": [],
   "source": [
    "# Define the report\n",
    "\n",
    "from sklearn.metrics import accuracy_score, roc_auc_score, f1_score, confusion_matrix\n",
    "\n",
    "def report(model, y, predict):\n",
    "    print('Report of ' + model)\n",
    "    print('=================================================================================')\n",
    "    print('Accuracy of the model:{}'.format(accuracy_score(y, predict)))\n",
    "    print('AUC score:            {}'.format(roc_auc_score(y, predict)))\n",
    "    print('F1 score:             {}'.format(f1_score(y, predict)))\n",
    "    print('Confusion Matrix:')\n",
    "    print(confusion_matrix(y, predict))"
   ]
  },
  {
   "cell_type": "markdown",
   "metadata": {
    "collapsed": true
   },
   "source": [
    "#### 1. Random Forest"
   ]
  },
  {
   "cell_type": "code",
   "execution_count": 17,
   "metadata": {
    "collapsed": true
   },
   "outputs": [],
   "source": [
    "from sklearn.ensemble import RandomForestClassifier\n",
    "from sklearn.model_selection import train_test_split, GridSearchCV"
   ]
  },
  {
   "cell_type": "code",
   "execution_count": 18,
   "metadata": {
    "collapsed": true
   },
   "outputs": [],
   "source": [
    "score = []\n",
    "for i in range(1,20):\n",
    "    xtrain, xtest, ytrain, ytest = train_test_split(x_transform[:,:i], y, test_size = 0.3, random_state=1)\n",
    "    param = {'n_estimators': 10**np.arange(3), 'max_features': ['auto','sqrt','log2']}\n",
    "    gs_rf = GridSearchCV(RandomForestClassifier(), param_grid=param)\n",
    "    gs_rf.fit(xtrain, ytrain)\n",
    "    rf_predict = gs_rf.predict(xtest)\n",
    "    score.append(accuracy_score(ytest, rf_predict))"
   ]
  },
  {
   "cell_type": "code",
   "execution_count": 19,
   "metadata": {
    "collapsed": false
   },
   "outputs": [
    {
     "data": {
      "text/plain": [
       "<matplotlib.text.Text at 0x1761d52e0b8>"
      ]
     },
     "execution_count": 19,
     "metadata": {},
     "output_type": "execute_result"
    },
    {
     "data": {
      "image/png": "[encoded data removed]",
      "text/plain": [
       "<matplotlib.figure.Figure at 0x1761d4c5f28>"
      ]
     },
     "metadata": {},
     "output_type": "display_data"
    }
   ],
   "source": [
    "#Plot the accuracy vs. Number of principle components for RF\n",
    "plt.bar(range(1,20),score)\n",
    "_ = plt.xticks(range(1,20,1))\n",
    "plt.xlabel('Number of Principle Components')\n",
    "plt.ylabel('Prediction Accuracy')\n",
    "plt.title('Random Forest')"
   ]
  },
  {
   "cell_type": "code",
   "execution_count": 20,
   "metadata": {
    "collapsed": true
   },
   "outputs": [],
   "source": [
    "# Assign train and test sets using 9 principle components\n",
    "xtrain, xtest, ytrain, ytest = train_test_split(x_transform[:,:9], y, test_size = 0.3, random_state=1)"
   ]
  },
  {
   "cell_type": "code",
   "execution_count": 21,
   "metadata": {
    "collapsed": false,
    "scrolled": true
   },
   "outputs": [
    {
     "data": {
      "text/plain": [
       "GridSearchCV(cv=None, error_score='raise',\n",
       "       estimator=RandomForestClassifier(bootstrap=True, class_weight=None, criterion='gini',\n",
       "            max_depth=None, max_features='auto', max_leaf_nodes=None,\n",
       "            min_impurity_split=1e-07, min_samples_leaf=1,\n",
       "            min_samples_split=2, min_weight_fraction_leaf=0.0,\n",
       "            n_estimators=10, n_jobs=1, oob_score=False, random_state=None,\n",
       "            verbose=0, warm_start=False),\n",
       "       fit_params={}, iid=True, n_jobs=1,\n",
       "       param_grid={'n_estimators': array([  1,  10, 100], dtype=int32), 'max_features': ['auto', 'sqrt', 'log2']},\n",
       "       pre_dispatch='2*n_jobs', refit=True, return_train_score=True,\n",
       "       scoring=None, verbose=0)"
      ]
     },
     "execution_count": 21,
     "metadata": {},
     "output_type": "execute_result"
    }
   ],
   "source": [
    "param = {'n_estimators': 10**np.arange(3), 'max_features': ['auto','sqrt','log2']}\n",
    "gs_rf = GridSearchCV(RandomForestClassifier(), param_grid=param)\n",
    "gs_rf.fit(xtrain, ytrain)"
   ]
  },
  {
   "cell_type": "code",
   "execution_count": 22,
   "metadata": {
    "collapsed": true
   },
   "outputs": [],
   "source": [
    "rf_predict = gs_rf.predict(xtest)"
   ]
  },
  {
   "cell_type": "code",
   "execution_count": 23,
   "metadata": {
    "collapsed": false,
    "scrolled": true
   },
   "outputs": [
    {
     "name": "stdout",
     "output_type": "stream",
     "text": [
      "Report of random forest\n",
      "=================================================================================\n",
      "Accuracy of the model:0.9525423728813559\n",
      "AUC score:            0.9434670931472328\n",
      "F1 score:             0.9363636363636364\n",
      "Confusion Matrix:\n",
      "[[178   3]\n",
      " [ 11 103]]\n"
     ]
    }
   ],
   "source": [
    "# Generate performance report of Random Forest\n",
    "report('random forest', ytest, rf_predict)"
   ]
  },
  {
   "cell_type": "markdown",
   "metadata": {
    "collapsed": true
   },
   "source": [
    "#### 2. KNN"
   ]
  },
  {
   "cell_type": "code",
   "execution_count": 24,
   "metadata": {
    "collapsed": true
   },
   "outputs": [],
   "source": [
    "from sklearn.neighbors import KNeighborsClassifier"
   ]
  },
  {
   "cell_type": "code",
   "execution_count": 25,
   "metadata": {
    "collapsed": false
   },
   "outputs": [],
   "source": [
    "score_knn = []\n",
    "for i in range(1,20):\n",
    "    xtrain, xtest, ytrain, ytest = train_test_split(x_transform[:,:i], y, test_size = 0.3, random_state=1)\n",
    "    param = {'n_neighbors': range(1,11)}\n",
    "    gs_knn = GridSearchCV(KNeighborsClassifier(), param_grid=param)\n",
    "    gs_knn.fit(xtrain, ytrain)\n",
    "    knn_predict = gs_knn.predict(xtest)\n",
    "    score_knn.append(accuracy_score(ytest, knn_predict))"
   ]
  },
  {
   "cell_type": "code",
   "execution_count": 26,
   "metadata": {
    "collapsed": false,
    "scrolled": true
   },
   "outputs": [
    {
     "data": {
      "text/plain": [
       "<matplotlib.text.Text at 0x1761d846630>"
      ]
     },
     "execution_count": 26,
     "metadata": {},
     "output_type": "execute_result"
    },
    {
     "data": {
      "image/png": "[encoded data removed]",
      "text/plain": [
       "<matplotlib.figure.Figure at 0x1761d5c55f8>"
      ]
     },
     "metadata": {},
     "output_type": "display_data"
    }
   ],
   "source": [
    "plt.bar(range(1,20), score_knn)\n",
    "_ = plt.xticks(range(1,20,1))\n",
    "plt.ylim(0,1.0)\n",
    "plt.xlabel('Number of Principle Components')\n",
    "plt.ylabel('Prediction Accuracy')\n",
    "plt.title('KNN')"
   ]
  },
  {
   "cell_type": "code",
   "execution_count": 27,
   "metadata": {
    "collapsed": false
   },
   "outputs": [
    {
     "data": {
      "text/plain": [
       "GridSearchCV(cv=None, error_score='raise',\n",
       "       estimator=RandomForestClassifier(bootstrap=True, class_weight=None, criterion='gini',\n",
       "            max_depth=None, max_features='auto', max_leaf_nodes=None,\n",
       "            min_impurity_split=1e-07, min_samples_leaf=1,\n",
       "            min_samples_split=2, min_weight_fraction_leaf=0.0,\n",
       "            n_estimators=10, n_jobs=1, oob_score=False, random_state=None,\n",
       "            verbose=0, warm_start=False),\n",
       "       fit_params={}, iid=True, n_jobs=1,\n",
       "       param_grid={'n_estimators': array([  1,  10, 100], dtype=int32), 'max_features': ['auto', 'sqrt', 'log2']},\n",
       "       pre_dispatch='2*n_jobs', refit=True, return_train_score=True,\n",
       "       scoring=None, verbose=0)"
      ]
     },
     "execution_count": 27,
     "metadata": {},
     "output_type": "execute_result"
    }
   ],
   "source": [
    "# Assign train and test sets using 9 principle components\n",
    "xtrain, xtest, ytrain, ytest = train_test_split(x_transform[:,:9], y, test_size = 0.3, random_state=1)\n",
    "\n",
    "param = {'n_estimators': 10**np.arange(3), 'max_features': ['auto','sqrt','log2']}\n",
    "gs_knn = GridSearchCV(RandomForestClassifier(), param_grid=param)\n",
    "gs_knn.fit(xtrain, ytrain)"
   ]
  },
  {
   "cell_type": "code",
   "execution_count": 28,
   "metadata": {
    "collapsed": false
   },
   "outputs": [],
   "source": [
    "knn_predict = gs_knn.predict(xtest)"
   ]
  },
  {
   "cell_type": "code",
   "execution_count": 29,
   "metadata": {
    "collapsed": false,
    "scrolled": true
   },
   "outputs": [
    {
     "name": "stdout",
     "output_type": "stream",
     "text": [
      "Report of knn\n",
      "=================================================================================\n",
      "Accuracy of the model:0.9491525423728814\n",
      "AUC score:            0.9407046622080062\n",
      "F1 score:             0.9321266968325793\n",
      "Confusion Matrix:\n",
      "[[177   4]\n",
      " [ 11 103]]\n"
     ]
    }
   ],
   "source": [
    "# Generate performance report of Random Forest\n",
    "report('knn', ytest, knn_predict)"
   ]
  },
  {
   "cell_type": "markdown",
   "metadata": {},
   "source": [
    "#### 3. SVM"
   ]
  },
  {
   "cell_type": "code",
   "execution_count": null,
   "metadata": {
    "collapsed": true
   },
   "outputs": [],
   "source": [
    "from sklearn.preprocessing import StandardScaler\n",
    "from sklearn.pipeline import make_pipeline\n",
    "from sklearn.svm import SVC"
   ]
  },
  {
   "cell_type": "code",
   "execution_count": null,
   "metadata": {
    "collapsed": false
   },
   "outputs": [],
   "source": [
    "score_svc = []\n",
    "for i in range(1,20):\n",
    "    xtrain, xtest, ytrain, ytest = train_test_split(x_transform[:,:i], y, test_size = 0.3, random_state=1)\n",
    "    pipe = make_pipeline(StandardScaler(), SVC())\n",
    "    param_grid = [{'svc__gamma': [10**i for i in range(-3,3)], 'svc__C':[10**i for i in range(-3,3)]}]\n",
    "    gs_svc = GridSearchCV(pipe, param_grid=param_grid)\n",
    "    gs_svc.fit(xtrain, ytrain)\n",
    "    svc_predict = gs_svc.predict(xtest)\n",
    "    score_svc.append(accuracy_score(ytest, svc_predict))"
   ]
  },
  {
   "cell_type": "code",
   "execution_count": null,
   "metadata": {
    "collapsed": false
   },
   "outputs": [],
   "source": [
    "plt.bar(range(1,20),score_svc)\n",
    "_ = plt.xticks(range(1,20,1))"
   ]
  },
  {
   "cell_type": "code",
   "execution_count": null,
   "metadata": {
    "collapsed": false
   },
   "outputs": [],
   "source": [
    "xtrain, xtest, ytrain, ytest = train_test_split(x_transform[:,:9], y, test_size = 0.3, random_state=1)\n",
    "\n",
    "pipe = make_pipeline(StandardScaler(), SVC(probability=True))\n",
    "param_grid = [{'svc__gamma': [10**i for i in range(-3,3)], 'svc__C':[10**i for i in range(-3,3)]}]\n",
    "gs_svc = GridSearchCV(pipe, param_grid)\n",
    "gs_svc.fit(xtrain, ytrain)"
   ]
  },
  {
   "cell_type": "code",
   "execution_count": null,
   "metadata": {
    "collapsed": true
   },
   "outputs": [],
   "source": [
    "svc_predict = gs_svc.predict(xtest)"
   ]
  },
  {
   "cell_type": "code",
   "execution_count": null,
   "metadata": {
    "collapsed": false,
    "scrolled": true
   },
   "outputs": [],
   "source": [
    "report('svc', ytest, svc_predict)"
   ]
  },
  {
   "cell_type": "markdown",
   "metadata": {
    "collapsed": true
   },
   "source": [
    "#### 4. Logistic Regression "
   ]
  },
  {
   "cell_type": "code",
   "execution_count": null,
   "metadata": {
    "collapsed": true
   },
   "outputs": [],
   "source": [
    "from sklearn.linear_model import LogisticRegression"
   ]
  },
  {
   "cell_type": "code",
   "execution_count": null,
   "metadata": {
    "collapsed": false,
    "scrolled": true
   },
   "outputs": [],
   "source": [
    "param = {'C': [10**i for i in range(-4,3)]}\n",
    "gs_logistic = GridSearchCV(LogisticRegression(), param)\n",
    "gs_logistic.fit(xtrain, ytrain)"
   ]
  },
  {
   "cell_type": "code",
   "execution_count": null,
   "metadata": {
    "collapsed": true
   },
   "outputs": [],
   "source": [
    "logistic_predict = gs_logistic.predict(xtest)"
   ]
  },
  {
   "cell_type": "code",
   "execution_count": null,
   "metadata": {
    "collapsed": false,
    "scrolled": false
   },
   "outputs": [],
   "source": [
    "report('logistic', ytest, logistic_predict)"
   ]
  },
  {
   "cell_type": "markdown",
   "metadata": {},
   "source": [
    "Interesting results! It seems like logistic regression predict all test samples to be negative(adulterated) samples. The boundary between adulterated and authetic samples is not linear, that is why logistic regression cannot seperated the samples efficiently, instead, it just predict all the samples to be adulterated. "
   ]
  },
  {
   "cell_type": "markdown",
   "metadata": {
    "collapsed": true
   },
   "source": [
    "#### 5. Ensemble model by voting\n",
    "Herein, we used svc, rf and knn as voting methods, and it turns out the ensemble method performs similar as SVM. So we keep using svm for further discussion."
   ]
  },
  {
   "cell_type": "code",
   "execution_count": null,
   "metadata": {
    "collapsed": true
   },
   "outputs": [],
   "source": [
    "from sklearn.ensemble import VotingClassifier"
   ]
  },
  {
   "cell_type": "code",
   "execution_count": null,
   "metadata": {
    "collapsed": false
   },
   "outputs": [],
   "source": [
    "# We used svc, rf and knn together to predict cancer\n",
    "eclf = VotingClassifier(estimators=[('svc', gs_svc.best_estimator_), ('rf', gs_rf.best_estimator_), ('knn', gs_knn.best_estimator_)], voting='hard')\n",
    "eclf.fit(xtrain, ytrain)"
   ]
  },
  {
   "cell_type": "code",
   "execution_count": null,
   "metadata": {
    "collapsed": false
   },
   "outputs": [],
   "source": [
    "eclf_predict = eclf.predict(xtest)"
   ]
  },
  {
   "cell_type": "code",
   "execution_count": null,
   "metadata": {
    "collapsed": false
   },
   "outputs": [],
   "source": [
    "report('Ensemble', ytest, eclf_predict)"
   ]
  },
  {
   "cell_type": "markdown",
   "metadata": {},
   "source": [
    "## Section 5. What does the misclassfied samples look like? "
   ]
  },
  {
   "cell_type": "code",
   "execution_count": null,
   "metadata": {
    "collapsed": true
   },
   "outputs": [],
   "source": [
    "# Extract the misclassfied samples and take the average\n",
    "misclassfied_y = y.loc[ytest.index[svc_predict != ytest]]\n",
    "\n",
    "misclassified_x_authentic_avg = np.mean(x.loc[misclassfied_y.index[misclassfied_y==1]])\n",
    "\n",
    "misclassified_x_adulterated_avg = np.mean(x.loc[misclassfied_y.index[misclassfied_y==0]])"
   ]
  },
  {
   "cell_type": "code",
   "execution_count": null,
   "metadata": {
    "collapsed": false
   },
   "outputs": [],
   "source": [
    "# Plot interactive plotly graph to show the difference between misclassfied samples and authentic and adulterated samples\n",
    "data1 = go.Scatter(x = x_fruit_avg.index, y = x_fruit_avg, line = dict(color = 'green'), name = 'Authentic Strawberry')\n",
    "data2 = go.Scatter(x = x_non_fruit_avg.index, y = x_non_fruit_avg, line = dict(color='red'), name = 'Adulterated Strawberry')\n",
    "data3 = go.Scatter(x = misclassified_x_authentic_avg.index, y = misclassified_x_authentic_avg, line = dict(color = 'blue'),name = 'Misclassified Authentic')\n",
    "data4 = go.Scatter(x = misclassified_x_adulterated_avg.index, y = misclassified_x_adulterated_avg, line = dict(color = 'yellow'),name = 'Misclassified Adulterated')\n",
    "\n",
    "layout = go.Layout(title = 'Comparison of Strawberry and Non-strawberry samples')\n",
    "fig = dict(data = [data1, data2,data3, data4], layout = layout)\n",
    "\n",
    "py.iplot(fig)"
   ]
  },
  {
   "cell_type": "markdown",
   "metadata": {
    "collapsed": true
   },
   "source": [
    "## Section 6. Random Forest to select the most important features"
   ]
  },
  {
   "cell_type": "code",
   "execution_count": null,
   "metadata": {
    "collapsed": false
   },
   "outputs": [],
   "source": [
    "rf = RandomForestClassifier()\n",
    "rf.fit(x, y)"
   ]
  },
  {
   "cell_type": "code",
   "execution_count": null,
   "metadata": {
    "collapsed": false
   },
   "outputs": [],
   "source": [
    "rf_predict = rf.predict(x)\n",
    "\n",
    "important_index = np.argsort(rf.feature_importances_)[::-1]"
   ]
  },
  {
   "cell_type": "code",
   "execution_count": null,
   "metadata": {
    "collapsed": false
   },
   "outputs": [],
   "source": [
    "plt.plot(np.cumsum(np.sort(rf.feature_importances_)[::-1]))\n",
    "plt.xlabel('Number of important features')\n",
    "plt.ylabel('Variance Explained')\n",
    "plt.annotate('95% Variance Explained', xy=(0,1), xytext=(0,0.98), color = 'r')\n",
    "plt.plot([0,200],[0.95,0.95], linewidth = 3, color = 'red', alpha = 0.5)\n",
    "plt.title('Variance explained by number of important features')"
   ]
  },
  {
   "cell_type": "markdown",
   "metadata": {},
   "source": [
    "Do the selected features make sense in terms of chemistry? Let's select the top ten important features for discussion"
   ]
  },
  {
   "cell_type": "code",
   "execution_count": null,
   "metadata": {
    "collapsed": false
   },
   "outputs": [],
   "source": [
    "# Top ten important features from more important to less important\n",
    "x.columns[important_index][:10]"
   ]
  },
  {
   "cell_type": "code",
   "execution_count": null,
   "metadata": {
    "collapsed": false,
    "scrolled": false
   },
   "outputs": [],
   "source": [
    "# Replot the comparison between authentic and adulterated samples\n",
    "data1 = go.Scatter(x = x_fruit_avg.index, y = x_fruit_avg, line = dict(color = 'green'), name = 'Authentic Strawberry')\n",
    "data2 = go.Scatter(x = x_non_fruit_avg.index, y = x_non_fruit_avg, line = dict(color='red'), name = 'Adulterated Strawberry')\n",
    "layout = go.Layout(title = 'Comparison of Strawberry and Non-strawberry samples')\n",
    "fig = dict(data = [data1, data2], layout = layout)\n",
    "\n",
    "py.iplot(fig)"
   ]
  },
  {
   "cell_type": "markdown",
   "metadata": {},
   "source": [
    "It is surprised to see the big difference between 1700-1750 is less determinant to the prediction. It is true however, because the region represents typical sugar C=O aldehydes/ketones signals(herein glucose or fructose signal), where it is very easy to blend into samples. It seems like 1550-1620 and 1180-1250 regions are within the top 10 regions determining the authentation of samples, which corespond to aromatic C=C double bonds and S=O bounds naturally occured in real sample. The above two regions are 'fingerprint' regions of strawberry purees that differentiate the authentic samples from adulterated samples."
   ]
  },
  {
   "cell_type": "code",
   "execution_count": null,
   "metadata": {
    "collapsed": true
   },
   "outputs": [],
   "source": []
  }
 ],
 "metadata": {
  "kernelspec": {
   "display_name": "Python 3",
   "language": "python",
   "name": "python3"
  },
  "language_info": {
   "codemirror_mode": {
    "name": "ipython",
    "version": 3
   },
   "file_extension": ".py",
   "mimetype": "text/x-python",
   "name": "python",
   "nbconvert_exporter": "python",
   "pygments_lexer": "ipython3",
   "version": "3.6.0"
  }
 },
 "nbformat": 4,
 "nbformat_minor": 2
}
